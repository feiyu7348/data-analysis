{
 "cells": [
  {
   "cell_type": "markdown",
   "metadata": {},
   "source": [
    "## 15.基于selenium与异步技术抓取微博"
   ]
  },
  {
   "cell_type": "code",
   "execution_count": 1,
   "metadata": {},
   "outputs": [],
   "source": [
    "from selenium import webdriver #Selenium是一个用于Web应用程序测试的工具。Selenium测试直接运行在浏览器中，就像真正的用户在操作一样\n",
    "import time \n",
    "import os\n",
    "import csv\n",
    "import pandas as pd"
   ]
  },
  {
   "cell_type": "code",
   "execution_count": 2,
   "metadata": {},
   "outputs": [],
   "source": [
    "driver = webdriver.Chrome() #创建Chrome驱动\n",
    "driver.get(r'https://weibo.com/') #获取微博网址\n",
    "time.sleep(10)\n",
    "driver.find_element_by_xpath(r'/html/body/div[1]/div[1]/div/div[1]/div/div/div[3]/div[2]/ul/li[3]/a').click() #找到相应区域模拟点击事件 使用xpath\n",
    "# driver.find_element_by_xpath(r'//a[@class=\"S_txt1\" and @node-type=\"loginBtn\"]').click()\n",
    "time.sleep(5)\n",
    "#设置用户名和密码\n",
    "driver.find_element_by_xpath(r'/html/body/div[4]/div[2]/div[3]/div[3]/div[1]/input').send_keys(\"myusername\") \n",
    "# driver.find_element_by_xpath(r'//div[@class=\"item username input_wrap\"]/input').send_keys(\"myusername\")\n",
    "time.sleep(3)\n",
    "driver.find_element_by_xpath(r'/html/body/div[4]/div[2]/div[3]/div[3]/div[2]/input').send_keys(\"mypassword\")\n",
    "# driver.find_element_by_xpath(r'//div[@class=\"item password input_wrap\"]/input').send_keys(\"mypassword\")\n",
    "time.sleep(3)\n",
    "driver.find_element_by_xpath(r'/html/body/div[4]/div[2]/div[3]/div[3]/div[6]/a').click()\n",
    "# driver.find_element_by_xpath(r'//a[@class=\"W_btn_a btn_34px\"]').click()\n",
    "time.sleep(3)"
   ]
  },
  {
   "cell_type": "code",
   "execution_count": 4,
   "metadata": {},
   "outputs": [],
   "source": [
    "#同上\n",
    "driver = webdriver.Chrome()\n",
    "driver.get(r'https://weibo.com/')\n",
    "time.sleep(10)\n",
    "driver.find_element_by_xpath(r'/html/body/div[1]/div[1]/div/div[1]/div/div/div[3]/div[2]/ul/li[3]/a').click()\n",
    "# driver.find_element_by_xpath(r'//a[@class=\"S_txt1\" and @node-type=\"loginBtn\"]').click()\n",
    "time.sleep(5)\n",
    "driver.find_element_by_xpath(r'/html/body/div[4]/div[2]/div[3]/div[1]/a[2]').click()\n",
    "time.sleep(3)"
   ]
  },
  {
   "cell_type": "code",
   "execution_count": 3,
   "metadata": {},
   "outputs": [],
   "source": [
    "driver.find_element_by_xpath(r'/html/body/div[1]/div/div[2]/div[3]/div[1]/div/div[2]/div[1]/div[5]/div[1]/a').click()\n",
    "# driver.find_element_by_xpath(r'//a[@page_id=\"102803_ctg1_1760_-_ctg1_1760\"]').click()\n",
    "time.sleep(3)\n",
    "driver.find_element_by_xpath(r'/html/body/div[1]/div/div/div[2]/div[2]/div[1]/div/div/div/div/div[13]/a').click()\n",
    "# driver.find_element_by_xpath(r'//a[@href=\"/102803\"]').click()\n",
    "time.sleep(3)"
   ]
  },
  {
   "cell_type": "code",
   "execution_count": 4,
   "metadata": {},
   "outputs": [
    {
     "name": "stdout",
     "output_type": "stream",
     "text": [
      "<html><head>\n",
      "<meta charset=\"utf-8\">\n",
      "<meta name=\"viewport\" content=\"initial-scale=1,minimum-scale=1\">\n",
      "<link rel=\"dns-prefetch\" href=\"//img.t.sinajs.cn/\">\n",
      "<link rel=\"dns-prefetch\" href=\"//img1.t.sinajs.cn/\">\n",
      "<link rel=\"dns-prefetch\" href=\"//js.t.sinajs.cn/\">\n",
      "<link rel=\"dns-prefetch\" href=\"//js1.t.sinajs.cn/\">\n",
      "<link rel=\"dns-prefetch\" href=\"//js2.t.sinajs.cn/\">\n",
      "<link rel=\"dns-prefetch\" href=\"//biz.weibo.com/\">\n",
      "<link rel=\"dns-prefetch\" href=\"//beacon.sina.com.cn/\">\n",
      "<link rel=\"dns-prefetch\" href=\"//rs.sinajs.cn/\">\n",
      "<link rel=\"dns-prefetch\" href=\"//tp1.sinaimg.cn/\">\n",
      "<link rel=\"dns-prefetch\" href=\"//tp2.sinaimg.cn/\">\n",
      "<link rel=\"dns-prefetch\" href=\"//tp3.sinaimg.cn/\">\n",
      "<link rel=\"dns-prefetch\" href=\"//tp4.sinaimg.cn/\">\n",
      "<link rel=\"dns-prefetch\" href=\"//ww1.sinaimg.cn/\">\n",
      "<link rel=\"dns-prefetch\" href=\"//ww2.sinaimg.cn/\">\n",
      "<link rel=\"dns-prefetch\" href=\"//ww3.sinaimg.cn/\">\n",
      "<link rel=\"dns-prefetch\" href=\"//ww4.sinaimg.cn/\">\n",
      "\n",
      "<link rel=\"mask-icon\" sizes=\"any\" href=\"//img.t.sinajs.cn/t6/style/images/ap\n"
     ]
    }
   ],
   "source": [
    "print(driver.page_source[:1000]) #输出获取的link"
   ]
  },
  {
   "cell_type": "code",
   "execution_count": 6,
   "metadata": {},
   "outputs": [],
   "source": [
    "#执行js 获取窗口滚动条的长度 在滚动到最底端\n",
    "def scroll2bottom(driver):\n",
    "    driver.execute_script(r\"\"\" \n",
    "        (function () { \n",
    "            var y = document.body.scrollHeight;\n",
    "            window.scroll(0, y);\n",
    "        })(); \n",
    "        \"\"\")"
   ]
  },
  {
   "cell_type": "code",
   "execution_count": 7,
   "metadata": {},
   "outputs": [],
   "source": [
    "#一共滚动5次\n",
    "for i in range(5):\n",
    "    scroll2bottom(driver)\n",
    "    time.sleep(3)"
   ]
  },
  {
   "cell_type": "code",
   "execution_count": 8,
   "metadata": {},
   "outputs": [],
   "source": [
    "driver.find_element_by_link_text('查看更多c').click() #模拟点击查看更多"
   ]
  },
  {
   "cell_type": "code",
   "execution_count": 16,
   "metadata": {},
   "outputs": [],
   "source": [
    "# 刷新页面 继续滚动 找到所有查看更多\n",
    "driver.refresh()\n",
    "time.sleep(3)\n",
    "for i in range(5):\n",
    "    for j in range(5):\n",
    "        scroll2bottom(driver)\n",
    "        time.sleep(3)\n",
    "    driver.find_element_by_link_text('查看更多c').click()\n",
    "    time.sleep(3)"
   ]
  },
  {
   "cell_type": "code",
   "execution_count": 12,
   "metadata": {},
   "outputs": [],
   "source": [
    "#将滚动条拖到最上\n",
    "def scroll2top(driver):\n",
    "    driver.execute_script(r\"\"\" \n",
    "        (function () {\n",
    "            window.scrollTo(0, 0)\n",
    "        })(); \n",
    "        \"\"\")"
   ]
  },
  {
   "cell_type": "code",
   "execution_count": 13,
   "metadata": {},
   "outputs": [],
   "source": [
    "#点击所有查看更多\n",
    "scroll2top(driver)\n",
    "time.sleep(3)\n",
    "tags = driver.find_elements_by_link_text('展开全文c')\n",
    "for tag in tags:\n",
    "    tag.click()\n",
    "    time.sleep(1)"
   ]
  },
  {
   "cell_type": "code",
   "execution_count": 101,
   "metadata": {},
   "outputs": [
    {
     "data": {
      "text/plain": [
       "'                                                                    大家好，2020真的是讓大家很辛苦的一年，所以一直在找尋我覺得適合的時機告訴大家。今天，我想與大家分享一件好事。<br><br>是的，我现在很幸福，已經有了和我一起共度下半生的另一半，並正式展開我們的家庭生活啦！<br><br>希望大家能給予我們祝福，<br>我們在這裡謝謝你們，<br>也希望你們也能找到屬於自己的幸福 。&nbsp;&nbsp;\\u200b\\u200b\\u200b\\u200b...<a target=\"_blank\" href=\"//weibo.com/1752502537/Jd9nsrL8x\" class=\"WB_text_opt\" suda-uatrack=\"key=original_blog_unfold&amp;value=click_unfold:4531343146616053:1752502537\" action-type=\"fl_unfold\" action-data=\"mid=4531343146616053&amp;is_settop&amp;is_sethot&amp;is_setfanstop&amp;is_setyoudao\">展开全文<i class=\"W_ficon ficon_arrow_down\">c</i></a>                                    '"
      ]
     },
     "execution_count": 101,
     "metadata": {},
     "output_type": "execute_result"
    }
   ],
   "source": [
    "contents = driver.find_elements_by_xpath(r'//div[@class=\"WB_text W_f14\"]') #使用xpath找到所要的标签\n",
    "contents[0].get_attribute('innerHTML') #找到innerHTML属性"
   ]
  },
  {
   "cell_type": "code",
   "execution_count": 14,
   "metadata": {},
   "outputs": [
    {
     "name": "stdout",
     "output_type": "stream",
     "text": [
      "全部博文数量： 464\n"
     ]
    }
   ],
   "source": [
    "#查看整个页面有多少条微博\n",
    "contents_full = driver.find_elements_by_xpath(r'//div[@class=\"WB_text W_f14\" and not(@style=\"display: none;\")]')\n",
    "print('全部博文数量：', len(contents_full))"
   ]
  },
  {
   "cell_type": "code",
   "execution_count": 16,
   "metadata": {},
   "outputs": [
    {
     "data": {
      "text/plain": [
       "'                                                                    <a target=\"_blank\" render=\"ext\" suda-uatrack=\"key=topic_click&amp;value=click_topic\" class=\"a_topic\" extra-data=\"type=topic\" href=\"//s.weibo.com/weibo?q=%23%E7%8E%8B%E4%B8%80%E5%8D%9A%E4%B8%8A%E5%A5%BD%E4%BD%B3%E7%94%B0%E5%9B%AD%E8%96%AF%E7%89%87%23&amp;from=default\">#王一博上好佳田园薯片#</a><br>今天起我就是<a target=\"_blank\" render=\"ext\" extra-data=\"type=atname\" href=\"//weibo.com/n/%E4%B8%8A%E5%A5%BD%E4%BD%B3%E5%AE%98%E6%96%B9%E5%BE%AE%E5%8D%9A?from=feed&amp;loc=at\" usercard=\"name=上好佳官方微博\">@上好佳官方微博</a> 田园薯片代言人了。薯片吃着，味道品着，不可描述的好吃！对了，去oishi上好佳旗舰店，还有惊喜。<a target=\"_blank\" render=\"ext\" suda-uatrack=\"key=topic_click&amp;value=click_topic\" class=\"a_topic\" extra-data=\"type=topic\" href=\"//s.weibo.com/weibo?q=%23%E4%B8%8A%E5%A5%BD%E4%BD%B3%E8%96%AF%E6%88%91%E6%9C%89%E8%BF%99%E5%91%B3%23&amp;from=default\">#上好佳薯我有这味#</a>！<a suda-uatrack=\"key=tblog_card&amp;value=click_title:4541069515305099:1034-video:1034%3A4540412082192404:page_102803_home:5492443184:4541069515305099:5492443184\" title=\"上好佳官方微博的微博视频\" href=\"http://t.cn/A6UrDJ08\" alt=\"http://t.cn/A6UrDJ08\" action-type=\"feed_list_url\" target=\"_blank\" rel=\"noopener noreferrer\"><i class=\"W_ficon ficon_cd_video\">L</i>上好佳官方微博的微博视频</a> \\u200b\\u200b\\u200b\\u200b                                    '"
      ]
     },
     "execution_count": 16,
     "metadata": {},
     "output_type": "execute_result"
    }
   ],
   "source": [
    "contents_full[0].get_attribute('innerHTML') #获取属性"
   ]
  },
  {
   "cell_type": "code",
   "execution_count": 20,
   "metadata": {},
   "outputs": [],
   "source": [
    "#创建csv文件保存抓取的微博\n",
    "if not os.path.exists('data/result_Weibo_hot_24h.csv'):\n",
    "    headers = ['content']\n",
    "    with open('data/result_Weibo_hot_24h.csv', 'w', newline = '', encoding = 'utf8') as f:\n",
    "        f_csv = csv.writer(f)\n",
    "        f_csv.writerow(headers)\n",
    "with open('data/result_Weibo_hot_24h.csv', 'a', newline = '', encoding = 'utf8') as f:\n",
    "    f_csv = csv.writer(f)\n",
    "    for content in contents_full:\n",
    "        f_csv.writerow([content.get_attribute('innerHTML').strip()])"
   ]
  },
  {
   "cell_type": "code",
   "execution_count": 2,
   "metadata": {},
   "outputs": [
    {
     "data": {
      "text/html": [
       "<div>\n",
       "<style scoped>\n",
       "    .dataframe tbody tr th:only-of-type {\n",
       "        vertical-align: middle;\n",
       "    }\n",
       "\n",
       "    .dataframe tbody tr th {\n",
       "        vertical-align: top;\n",
       "    }\n",
       "\n",
       "    .dataframe thead th {\n",
       "        text-align: right;\n",
       "    }\n",
       "</style>\n",
       "<table border=\"1\" class=\"dataframe\">\n",
       "  <thead>\n",
       "    <tr style=\"text-align: right;\">\n",
       "      <th></th>\n",
       "      <th>content</th>\n",
       "    </tr>\n",
       "  </thead>\n",
       "  <tbody>\n",
       "    <tr>\n",
       "      <th>0</th>\n",
       "      <td>我 到底是什么？&lt;br&gt; &lt;br&gt; &lt;br&gt;自创造101以来，网络上关于我的词条总少不了「丑...</td>\n",
       "    </tr>\n",
       "    <tr>\n",
       "      <th>1</th>\n",
       "      <td>就这样背后骂的还被录音的人，可见在公司说话到底是有多么的让人恶心？开公司？ 当老板？赚钱？你...</td>\n",
       "    </tr>\n",
       "    <tr>\n",
       "      <th>2</th>\n",
       "      <td>&lt;a target=\\\"_blank\\\" render=\\\"ext\\\" suda-uatra...</td>\n",
       "    </tr>\n",
       "    <tr>\n",
       "      <th>3</th>\n",
       "      <td>【&lt;a target=\\\"_blank\\\" render=\\\"ext\\\" suda-uatr...</td>\n",
       "    </tr>\n",
       "    <tr>\n",
       "      <th>4</th>\n",
       "      <td>&lt;a target=\\\"_blank\\\" render=\\\"ext\\\" suda-uatra...</td>\n",
       "    </tr>\n",
       "    <tr>\n",
       "      <th>...</th>\n",
       "      <td>...</td>\n",
       "    </tr>\n",
       "    <tr>\n",
       "      <th>3237</th>\n",
       "      <td>就是死了啊！ &lt;a suda-uatrack=\"key=tblog_card&amp;amp;val...</td>\n",
       "    </tr>\n",
       "    <tr>\n",
       "      <th>3238</th>\n",
       "      <td>【关于“真”】&lt;br&gt;真，包括真实、真诚；“真诚”是我们的心、精神、情感，是每个人最向往的一...</td>\n",
       "    </tr>\n",
       "    <tr>\n",
       "      <th>3239</th>\n",
       "      <td>姿态：你们知道我最近为什么...很经常开播比较晚吗？给你们小小透露一下…&lt;br&gt;(点开两个文...</td>\n",
       "    </tr>\n",
       "    <tr>\n",
       "      <th>3240</th>\n",
       "      <td>第三届 &lt;a target=\"_blank\" render=\"ext\" suda-uatra...</td>\n",
       "    </tr>\n",
       "    <tr>\n",
       "      <th>3241</th>\n",
       "      <td>&lt;a target=\"_blank\" render=\"ext\" suda-uatrack=\"...</td>\n",
       "    </tr>\n",
       "  </tbody>\n",
       "</table>\n",
       "<p>2701 rows × 1 columns</p>\n",
       "</div>"
      ],
      "text/plain": [
       "                                                content\n",
       "0     我 到底是什么？<br> <br> <br>自创造101以来，网络上关于我的词条总少不了「丑...\n",
       "1     就这样背后骂的还被录音的人，可见在公司说话到底是有多么的让人恶心？开公司？ 当老板？赚钱？你...\n",
       "2     <a target=\\\"_blank\\\" render=\\\"ext\\\" suda-uatra...\n",
       "3     【<a target=\\\"_blank\\\" render=\\\"ext\\\" suda-uatr...\n",
       "4     <a target=\\\"_blank\\\" render=\\\"ext\\\" suda-uatra...\n",
       "...                                                 ...\n",
       "3237  就是死了啊！ <a suda-uatrack=\"key=tblog_card&amp;val...\n",
       "3238  【关于“真”】<br>真，包括真实、真诚；“真诚”是我们的心、精神、情感，是每个人最向往的一...\n",
       "3239  姿态：你们知道我最近为什么...很经常开播比较晚吗？给你们小小透露一下…<br>(点开两个文...\n",
       "3240  第三届 <a target=\"_blank\" render=\"ext\" suda-uatra...\n",
       "3241  <a target=\"_blank\" render=\"ext\" suda-uatrack=\"...\n",
       "\n",
       "[2701 rows x 1 columns]"
      ]
     },
     "execution_count": 2,
     "metadata": {},
     "output_type": "execute_result"
    }
   ],
   "source": [
    "#用pandas包进行去重\n",
    "pd.read_csv('data/result_Weibo_hot_24h.csv', encoding = 'utf8').drop_duplicates(keep = 'first')"
   ]
  },
  {
   "cell_type": "code",
   "execution_count": 115,
   "metadata": {},
   "outputs": [
    {
     "name": "stdout",
     "output_type": "stream",
     "text": [
      "已到达指定爬取结束时间，爬取结束。\n"
     ]
    }
   ],
   "source": [
    "#设置定时 到时间停止抓取\n",
    "def compare_time(gtime):\n",
    "    d1 = time.time()\n",
    "    d2 = time.mktime(time.strptime(gtime, \"%Y-%m-%d %H:%M:%S\"))\n",
    "    delta = d1 - d2\n",
    "    if delta <= 0:\n",
    "        print('开始爬取，距离爬取结束还有{}分钟。'.format(-delta / 60))\n",
    "        return True\n",
    "    else:\n",
    "        print('已到达指定爬取结束时间，爬取结束。')\n",
    "        return False\n",
    "if not os.path.exists('data/result_Weibo_hot_1h.csv'):\n",
    "    headers = ['content']\n",
    "    with open('data/result_Weibo_hot_1h.csv', 'w', newline = '', encoding = 'utf8') as f:\n",
    "        f_csv = csv.writer(f)\n",
    "        f_csv.writerow(headers)\n",
    "#开始抓取\n",
    "driver = webdriver.Chrome()\n",
    "driver.get(r'https://weibo.com/')\n",
    "time.sleep(15)\n",
    "driver.find_element_by_xpath(r'/html/body/div[1]/div[1]/div/div[1]/div/div/div[3]/div[2]/ul/li[3]/a').click()\n",
    "# driver.find_element_by_xpath(r'//a[@class=\"S_txt1\" and @node-type=\"loginBtn\"]').click()\n",
    "time.sleep(5)\n",
    "\n",
    "\n",
    "driver.find_element_by_xpath(r'/html/body/div[4]/div[2]/div[3]/div[3]/div[1]/input').send_keys(\"myusername\")\n",
    "# driver.find_element_by_xpath(r'//div[@class=\"item username input_wrap\"]/input').send_keys(\"myusername\")\n",
    "time.sleep(3)\n",
    "driver.find_element_by_xpath(r'/html/body/div[4]/div[2]/div[3]/div[3]/div[2]/input').send_keys(\"mypassword\")\n",
    "# driver.find_element_by_xpath(r'//div[@class=\"item password input_wrap\"]/input').send_keys(\"mypassword\")\n",
    "time.sleep(3)\n",
    "driver.find_element_by_xpath(r'/html/body/div[4]/div[2]/div[3]/div[3]/div[6]/a').click()\n",
    "# driver.find_element_by_xpath(r'//a[@class=\"W_btn_a btn_34px\"]').click()\n",
    "time.sleep(120)\n",
    "\n",
    "\n",
    "# driver.find_element_by_xpath(r'/html/body/div[4]/div[2]/div[3]/div[1]/a[2]').click()\n",
    "# time.sleep(120)\n",
    "\n",
    "\n",
    "driver.find_element_by_xpath(r'/html/body/div[1]/div/div[2]/div[3]/div[1]/div/div[2]/div[1]/div[5]/div[1]/a').click()\n",
    "# driver.find_element_by_xpath(r'//a[@page_id=\"102803_ctg1_1760_-_ctg1_1760\"]').click()\n",
    "time.sleep(3)\n",
    "driver.find_element_by_xpath(r'/html/body/div[1]/div/div/div[2]/div[2]/div[1]/div/div/div/div/div[13]/a').click()\n",
    "# driver.find_element_by_xpath(r'//a[@href=\"/102803\"]').click()\n",
    "time.sleep(3)\n",
    "driver.find_element_by_xpath(r'/html/body/div[1]/div/div/div[2]/div[2]/div[2]/div[1]/div/div/div[2]/div/ul/li[3]/a').click()\n",
    "# driver.find_element_by_xpath(r'//a[@href=\"/102803?pids=Pl_Core_NewMixFeed__3&feed_sort=102803_ctg1_9999_-_ctg1_9999&feed_filter=102803_ctg1_9999_-_ctg1_9999#Pl_Core_NewMixFeed__3\"]').click()\n",
    "time.sleep(3)\n",
    "\n",
    "#抓取逻辑\n",
    "gtime = '2020-08-25 8:40:0'\n",
    "while compare_time(gtime):\n",
    "    driver.refresh()\n",
    "    time.sleep(5)\n",
    "    try:\n",
    "        for i in range(5):\n",
    "            for j in range(5):\n",
    "                scroll2bottom(driver)\n",
    "                time.sleep(3)\n",
    "            driver.find_element_by_link_text('查看更多c').click()\n",
    "            time.sleep(3)\n",
    "        scroll2top(driver)\n",
    "        time.sleep(3)\n",
    "        tags = driver.find_elements_by_link_text('展开全文c')\n",
    "        for tag in tags:\n",
    "            tag.click()\n",
    "            time.sleep(1)\n",
    "    except:\n",
    "        print('error, refresh')\n",
    "        continue\n",
    "    else:\n",
    "        contents_full = driver.find_elements_by_xpath(r'//div[@class=\"WB_text W_f14\" and not(@style=\"display: none;\")]')\n",
    "        with open('data/result_Weibo_hot_1h.csv', 'a', newline = '', encoding = 'utf8') as f:\n",
    "            f_csv = csv.writer(f)\n",
    "            for content in contents_full:\n",
    "                f_csv.writerow([content.get_attribute('innerHTML').strip()])\n",
    "        time.sleep(3600)\n",
    "driver.quit()"
   ]
  },
  {
   "cell_type": "code",
   "execution_count": 3,
   "metadata": {},
   "outputs": [
    {
     "data": {
      "text/html": [
       "<div>\n",
       "<style scoped>\n",
       "    .dataframe tbody tr th:only-of-type {\n",
       "        vertical-align: middle;\n",
       "    }\n",
       "\n",
       "    .dataframe tbody tr th {\n",
       "        vertical-align: top;\n",
       "    }\n",
       "\n",
       "    .dataframe thead th {\n",
       "        text-align: right;\n",
       "    }\n",
       "</style>\n",
       "<table border=\"1\" class=\"dataframe\">\n",
       "  <thead>\n",
       "    <tr style=\"text-align: right;\">\n",
       "      <th></th>\n",
       "      <th>content</th>\n",
       "    </tr>\n",
       "  </thead>\n",
       "  <tbody>\n",
       "    <tr>\n",
       "      <th>0</th>\n",
       "      <td>【&lt;a target=\\\"_blank\\\" render=\\\"ext\\\" suda-uatr...</td>\n",
       "    </tr>\n",
       "    <tr>\n",
       "      <th>1</th>\n",
       "      <td>昨天的几乎所有舆论钧正平，最高检，半月谈、人民网、人民日报、光明日报、瞭望、新华网、环球网、...</td>\n",
       "    </tr>\n",
       "    <tr>\n",
       "      <th>2</th>\n",
       "      <td>【&lt;a target=\\\"_blank\\\" render=\\\"ext\\\" suda-uatr...</td>\n",
       "    </tr>\n",
       "    <tr>\n",
       "      <th>3</th>\n",
       "      <td>“买包混入贵妇圈最终逆袭”的可行性版本，我觉得大概应该是这样的：&lt;br&gt;&lt;br&gt;顾佳砸锅卖铁...</td>\n",
       "    </tr>\n",
       "    <tr>\n",
       "      <th>4</th>\n",
       "      <td>&lt;a suda-uatrack=\\\"key=tblog_card&amp;amp;value=cli...</td>\n",
       "    </tr>\n",
       "    <tr>\n",
       "      <th>...</th>\n",
       "      <td>...</td>\n",
       "    </tr>\n",
       "    <tr>\n",
       "      <th>18399</th>\n",
       "      <td>盘尾市场动静不大了，3184点的大级别低点稳住了，但盘尾反弹力度不够，下面就看周末消息面了，...</td>\n",
       "    </tr>\n",
       "    <tr>\n",
       "      <th>18400</th>\n",
       "      <td>被咨询者震惊到了，我必须来做一次小普查。&lt;br&gt;你们和男友、丈夫相处时，会担心因为相处时间久...</td>\n",
       "    </tr>\n",
       "    <tr>\n",
       "      <th>18401</th>\n",
       "      <td>&lt;a suda-uatrack=\"key=tblog_card&amp;amp;value=clic...</td>\n",
       "    </tr>\n",
       "    <tr>\n",
       "      <th>18402</th>\n",
       "      <td>【探访杭州失踪女子小区：二度出现网红直播，家属蹲化粪池井盖旁痛哭】7月23日晚，在经过数次辟...</td>\n",
       "    </tr>\n",
       "    <tr>\n",
       "      <th>18403</th>\n",
       "      <td>男生女生都爱的西装girl&lt;br&gt;西装卖了好多了 &lt;br&gt;还是要买！&lt;br&gt;黑牌我给大家准备...</td>\n",
       "    </tr>\n",
       "  </tbody>\n",
       "</table>\n",
       "<p>17045 rows × 1 columns</p>\n",
       "</div>"
      ],
      "text/plain": [
       "                                                 content\n",
       "0      【<a target=\\\"_blank\\\" render=\\\"ext\\\" suda-uatr...\n",
       "1      昨天的几乎所有舆论钧正平，最高检，半月谈、人民网、人民日报、光明日报、瞭望、新华网、环球网、...\n",
       "2      【<a target=\\\"_blank\\\" render=\\\"ext\\\" suda-uatr...\n",
       "3      “买包混入贵妇圈最终逆袭”的可行性版本，我觉得大概应该是这样的：<br><br>顾佳砸锅卖铁...\n",
       "4      <a suda-uatrack=\\\"key=tblog_card&amp;value=cli...\n",
       "...                                                  ...\n",
       "18399  盘尾市场动静不大了，3184点的大级别低点稳住了，但盘尾反弹力度不够，下面就看周末消息面了，...\n",
       "18400  被咨询者震惊到了，我必须来做一次小普查。<br>你们和男友、丈夫相处时，会担心因为相处时间久...\n",
       "18401  <a suda-uatrack=\"key=tblog_card&amp;value=clic...\n",
       "18402  【探访杭州失踪女子小区：二度出现网红直播，家属蹲化粪池井盖旁痛哭】7月23日晚，在经过数次辟...\n",
       "18403  男生女生都爱的西装girl<br>西装卖了好多了 <br>还是要买！<br>黑牌我给大家准备...\n",
       "\n",
       "[17045 rows x 1 columns]"
      ]
     },
     "execution_count": 3,
     "metadata": {},
     "output_type": "execute_result"
    }
   ],
   "source": [
    "pd.read_csv('data/result_Weibo_hot_1h.csv', encoding = 'utf8').drop_duplicates(keep = 'first')"
   ]
  },
  {
   "cell_type": "code",
   "execution_count": 18,
   "metadata": {},
   "outputs": [],
   "source": [
    "# labels= ['社会', '国际', '科技', '科普', '数码', '财经', '股市', '明星', '综艺', '电视剧', '电影', \n",
    "#          '音乐', '汽车', '体育', '运动健身', '健康', '瘦身', '养生', '军事', '历史', '美女模特', '摄影',\n",
    "#          '情感', '搞笑', '辟谣', '正能量', '政务', '游戏', '旅游', '育儿', '校园', '美食', '房产', '家居', \n",
    "#          '星座', '读书', '三农', '设计', '艺术', '时尚', '美妆', '动漫', '宗教', '萌宠', '婚庆', '法律', '舞蹈']\n",
    "#创建标签列表\n",
    "labels= ['社会', '国际', '科技',  '财经', '明星', '音乐', '汽车', '体育', '健康', '军事', \n",
    "         '历史', '情感', '搞笑',  '游戏', '旅游', '校园', '美食', '艺术', '时尚', '动漫']"
   ]
  },
  {
   "cell_type": "code",
   "execution_count": 20,
   "metadata": {},
   "outputs": [],
   "source": [
    "#获取得所有查看更多 并模拟点击\n",
    "scroll2top(driver)\n",
    "time.sleep(3)\n",
    "driver.find_element_by_link_text(labels[0]).click()\n",
    "time.sleep(3)\n",
    "for i in range(5):\n",
    "    for j in range(5):\n",
    "        scroll2bottom(driver)\n",
    "        time.sleep(3)\n",
    "    driver.find_element_by_link_text('查看更多c').click()\n",
    "    time.sleep(3)\n",
    "scroll2top(driver)\n",
    "time.sleep(3)\n",
    "tags = driver.find_elements_by_link_text('展开全文c')\n",
    "for tag in tags:\n",
    "    tag.click()\n",
    "    time.sleep(1)"
   ]
  },
  {
   "cell_type": "code",
   "execution_count": 26,
   "metadata": {},
   "outputs": [
    {
     "name": "stdout",
     "output_type": "stream",
     "text": [
      "社会类博文数量： 460\n"
     ]
    }
   ],
   "source": [
    "#输出各类标签微博的个数\n",
    "contents_full = driver.find_elements_by_xpath(r'//div[@class=\"WB_text W_f14\" and not(@style=\"display: none;\")]')\n",
    "print('{}类博文数量：'.format(labels[0]), len(contents_full))"
   ]
  },
  {
   "cell_type": "code",
   "execution_count": 6,
   "metadata": {},
   "outputs": [
    {
     "name": "stdout",
     "output_type": "stream",
     "text": [
      "\n",
      "社会类博文数量：462*\n",
      "国际类博文数量：133\n",
      "科技类博文数量：458\n",
      "财经类博文数量：457\n",
      "明星类博文数量：464\n",
      "音乐类博文数量：360\n",
      "汽车类博文数量：356\n",
      "体育类博文数量：358\n",
      "健康类博文数量：269\n",
      "军事类博文数量：359\n",
      "历史类博文数量：292\n",
      "情感类博文数量：337\n",
      "搞笑类博文数量：320\n",
      "游戏类博文数量：247\n",
      "旅游类博文数量：224*\n",
      "校园类博文数量：462\n",
      "美食类博文数量：461\n",
      "艺术类博文数量：465\n",
      "时尚类博文数量：339\n",
      "动漫类博文数量：433"
     ]
    }
   ],
   "source": [
    "#同上\n",
    "def scroll(driver):\n",
    "    driver.execute_script(r\"\"\" \n",
    "        (function () { \n",
    "            window.scrollTo(0, 200) //使窗口定位至(0, 200)\n",
    "        })(); \n",
    "        \"\"\")\n",
    "if not os.path.exists('data/result_Weibo_with_label.csv'):\n",
    "    headers = ['content', 'label']\n",
    "    with open('data/result_Weibo_with_label.csv', 'w', newline = '', encoding = 'utf8') as f:\n",
    "        f_csv = csv.writer(f)\n",
    "        f_csv.writerow(headers)\n",
    "i = 0\n",
    "while i < len(labels):\n",
    "    try:\n",
    "        time.sleep(5)\n",
    "        if i < 17:\n",
    "            scroll2top(driver)\n",
    "        else:\n",
    "            scroll(driver)\n",
    "        time.sleep(2)\n",
    "        driver.find_element_by_link_text(labels[i]).click()\n",
    "        time.sleep(5)\n",
    "        try:\n",
    "            for j in range(5):\n",
    "                for k in range(5):\n",
    "                    scroll2bottom(driver)\n",
    "                    time.sleep(3)\n",
    "                driver.find_element_by_link_text('查看更多c').click()\n",
    "                time.sleep(3)\n",
    "        except:\n",
    "            pass\n",
    "        scroll2top(driver)\n",
    "        time.sleep(2)\n",
    "        tags = driver.find_elements_by_link_text('展开全文c')\n",
    "        for tag in tags:\n",
    "            tag.click()\n",
    "            time.sleep(1)\n",
    "        contents_full = driver.find_elements_by_xpath(r'//div[@class=\"WB_text W_f14\" and not(@style=\"display: none;\")]')\n",
    "#         print()\n",
    "        print('{0}类博文数量：{1}'.format(labels[i], len(contents_full)), end = '')\n",
    "        with open('data/result_Weibo_with_label.csv', 'a', newline = '', encoding = 'utf8') as f:\n",
    "            f_csv = csv.writer(f)\n",
    "            for content in contents_full:\n",
    "                f_csv.writerow([content.get_attribute('innerHTML').strip(), labels[i]])\n",
    "    except:\n",
    "#         print('error, refresh')\n",
    "        print('*', end = '')\n",
    "        driver.refresh()\n",
    "        continue\n",
    "    else:\n",
    "        i += 1\n",
    "        print()"
   ]
  },
  {
   "cell_type": "code",
   "execution_count": 21,
   "metadata": {},
   "outputs": [],
   "source": [
    "driver.quit()"
   ]
  },
  {
   "cell_type": "code",
   "execution_count": 4,
   "metadata": {},
   "outputs": [
    {
     "data": {
      "text/html": [
       "<div>\n",
       "<style scoped>\n",
       "    .dataframe tbody tr th:only-of-type {\n",
       "        vertical-align: middle;\n",
       "    }\n",
       "\n",
       "    .dataframe tbody tr th {\n",
       "        vertical-align: top;\n",
       "    }\n",
       "\n",
       "    .dataframe thead th {\n",
       "        text-align: right;\n",
       "    }\n",
       "</style>\n",
       "<table border=\"1\" class=\"dataframe\">\n",
       "  <thead>\n",
       "    <tr style=\"text-align: right;\">\n",
       "      <th></th>\n",
       "      <th>content</th>\n",
       "      <th>label</th>\n",
       "    </tr>\n",
       "  </thead>\n",
       "  <tbody>\n",
       "    <tr>\n",
       "      <th>0</th>\n",
       "      <td>全球每年生产近1000亿件衣服，但最终85%的纺织品都要被丢弃和填埋，可持续的时尚行业将为地...</td>\n",
       "      <td>社会</td>\n",
       "    </tr>\n",
       "    <tr>\n",
       "      <th>1</th>\n",
       "      <td>&lt;a target=\"_blank\" render=\"ext\" suda-uatrack=\"...</td>\n",
       "      <td>社会</td>\n",
       "    </tr>\n",
       "    <tr>\n",
       "      <th>2</th>\n",
       "      <td>&lt;a target=\"_blank\" render=\"ext\" suda-uatrack=\"...</td>\n",
       "      <td>社会</td>\n",
       "    </tr>\n",
       "    <tr>\n",
       "      <th>3</th>\n",
       "      <td>【&lt;a target=\"_blank\" render=\"ext\" suda-uatrack=...</td>\n",
       "      <td>社会</td>\n",
       "    </tr>\n",
       "    <tr>\n",
       "      <th>4</th>\n",
       "      <td>【&lt;a target=\"_blank\" render=\"ext\" suda-uatrack=...</td>\n",
       "      <td>社会</td>\n",
       "    </tr>\n",
       "    <tr>\n",
       "      <th>...</th>\n",
       "      <td>...</td>\n",
       "      <td>...</td>\n",
       "    </tr>\n",
       "    <tr>\n",
       "      <th>16194</th>\n",
       "      <td>&lt;a target=\"_blank\" render=\"ext\" suda-uatrack=\"...</td>\n",
       "      <td>动漫</td>\n",
       "    </tr>\n",
       "    <tr>\n",
       "      <th>16195</th>\n",
       "      <td>&lt;a target=\"_blank\" render=\"ext\" suda-uatrack=\"...</td>\n",
       "      <td>动漫</td>\n",
       "    </tr>\n",
       "    <tr>\n",
       "      <th>16196</th>\n",
       "      <td>&lt;a target=\"_blank\" render=\"ext\" suda-uatrack=\"...</td>\n",
       "      <td>动漫</td>\n",
       "    </tr>\n",
       "    <tr>\n",
       "      <th>16197</th>\n",
       "      <td>&lt;a target=\"_blank\" render=\"ext\" suda-uatrack=\"...</td>\n",
       "      <td>动漫</td>\n",
       "    </tr>\n",
       "    <tr>\n",
       "      <th>16198</th>\n",
       "      <td>&lt;a suda-uatrack=\"key=tblog_card&amp;amp;value=clic...</td>\n",
       "      <td>动漫</td>\n",
       "    </tr>\n",
       "  </tbody>\n",
       "</table>\n",
       "<p>16199 rows × 2 columns</p>\n",
       "</div>"
      ],
      "text/plain": [
       "                                                 content label\n",
       "0      全球每年生产近1000亿件衣服，但最终85%的纺织品都要被丢弃和填埋，可持续的时尚行业将为地...    社会\n",
       "1      <a target=\"_blank\" render=\"ext\" suda-uatrack=\"...    社会\n",
       "2      <a target=\"_blank\" render=\"ext\" suda-uatrack=\"...    社会\n",
       "3      【<a target=\"_blank\" render=\"ext\" suda-uatrack=...    社会\n",
       "4      【<a target=\"_blank\" render=\"ext\" suda-uatrack=...    社会\n",
       "...                                                  ...   ...\n",
       "16194  <a target=\"_blank\" render=\"ext\" suda-uatrack=\"...    动漫\n",
       "16195  <a target=\"_blank\" render=\"ext\" suda-uatrack=\"...    动漫\n",
       "16196  <a target=\"_blank\" render=\"ext\" suda-uatrack=\"...    动漫\n",
       "16197  <a target=\"_blank\" render=\"ext\" suda-uatrack=\"...    动漫\n",
       "16198  <a suda-uatrack=\"key=tblog_card&amp;value=clic...    动漫\n",
       "\n",
       "[16199 rows x 2 columns]"
      ]
     },
     "execution_count": 4,
     "metadata": {},
     "output_type": "execute_result"
    }
   ],
   "source": [
    "#保存去重\n",
    "Weibo_with_label = pd.read_csv('data/result_Weibo_with_label.csv', encoding = 'utf8').drop_duplicates(['content'], keep = 'first').reset_index(drop = True)\n",
    "Weibo_with_label"
   ]
  },
  {
   "cell_type": "code",
   "execution_count": 6,
   "metadata": {},
   "outputs": [],
   "source": [
    "Weibo_with_label.to_csv('data/result_Weibo_with_label.csv', index = 0)"
   ]
  },
  {
   "cell_type": "code",
   "execution_count": 1,
   "metadata": {},
   "outputs": [
    {
     "name": "stdout",
     "output_type": "stream",
     "text": [
      "page 1000 done\n",
      "page 2000 done\n",
      "page 3000 done\n",
      "page 4000 done\n",
      "page 5000 done\n",
      "page 6000 done\n",
      "page 7000 done\n",
      "page 8000 done\n",
      "page 9000 done\n",
      "page 10000 done\n",
      "page 11000 done\n",
      "page 12000 done\n",
      "page 13000 done\n"
     ]
    }
   ],
   "source": [
    "#使用requests库调用微博接口获取数据 提取json中所要的数据 保存到csv文件中\n",
    "import requests\n",
    "import json\n",
    "import os\n",
    "import csv\n",
    "page = 1\n",
    "contents = []\n",
    "while page <= 13000:\n",
    "    try:\n",
    "        t = requests.get(r'https://m.weibo.cn/api/container/getIndex?type=uid&value=2656274875&containerid=1076032656274875&page={}'.format(page), \n",
    "                        {\n",
    "                         'user-agent' : r'Mozilla/5.0 (Linux; Android 6.0; Nexus 5 Build/MRA58N) AppleWebKit/537.36 (KHTML, like Gecko) Chrome/84.0.4147.125 Mobile Safari/537.36'\n",
    "                        })\n",
    "        if page == 1:\n",
    "            for i in range(1, len(t.json().get('data').get('cards'))):\n",
    "                contents.append(t.json().get('data').get('cards')[i].get('mblog').get('raw_text'))\n",
    "        else:\n",
    "            for card in t.json().get('data').get('cards'):\n",
    "                contents.append(card.get('mblog').get('raw_text'))\n",
    "    except:\n",
    "        print('error at page {} {}'.format(page, str(t)))\n",
    "        continue\n",
    "    else:\n",
    "        if page % 1000 == 0:\n",
    "            print('page {} done'.format(page))\n",
    "        page += 1\n",
    "if not os.path.exists('data/result_Weibo_CCTVNEWS.csv'):\n",
    "    headers = ['content']\n",
    "    with open('data/result_Weibo_CCTVNEWS.csv', 'w', newline = '', encoding = 'utf8') as f:\n",
    "        f_csv = csv.writer(f)\n",
    "        f_csv.writerow(headers)\n",
    "with open('data/result_Weibo_CCTVNEWS.csv', 'a', newline = '', encoding = 'utf8') as f:\n",
    "    f_csv = csv.writer(f)\n",
    "    for row in contents:\n",
    "        f_csv.writerow([row])"
   ]
  },
  {
   "cell_type": "code",
   "execution_count": 3,
   "metadata": {},
   "outputs": [
    {
     "data": {
      "text/html": [
       "<div>\n",
       "<style scoped>\n",
       "    .dataframe tbody tr th:only-of-type {\n",
       "        vertical-align: middle;\n",
       "    }\n",
       "\n",
       "    .dataframe tbody tr th {\n",
       "        vertical-align: top;\n",
       "    }\n",
       "\n",
       "    .dataframe thead th {\n",
       "        text-align: right;\n",
       "    }\n",
       "</style>\n",
       "<table border=\"1\" class=\"dataframe\">\n",
       "  <thead>\n",
       "    <tr style=\"text-align: right;\">\n",
       "      <th></th>\n",
       "      <th>content</th>\n",
       "    </tr>\n",
       "  </thead>\n",
       "  <tbody>\n",
       "    <tr>\n",
       "      <th>0</th>\n",
       "      <td>【24小时不间断！#央视新闻正直播#】今天，@央视新闻 #买遍中国#带货直播打卡贵州，晚20...</td>\n",
       "    </tr>\n",
       "    <tr>\n",
       "      <th>1</th>\n",
       "      <td>#买遍中国#【今晚20点！有场很下饭的直播等你来看[馋嘴]】今晚20点，#买遍中国#贵州站！...</td>\n",
       "    </tr>\n",
       "    <tr>\n",
       "      <th>2</th>\n",
       "      <td>#云游中国#【走，带你游多彩贵州！[心]】逛一逛飞角重檐相间的青岩古镇，再去猴耳天坑云端漫步...</td>\n",
       "    </tr>\n",
       "    <tr>\n",
       "      <th>3</th>\n",
       "      <td>【自损一千伤敌八百 #美国在焦虑啥#[思考]】目前，包括华为在内共有150多家关联公司被美国...</td>\n",
       "    </tr>\n",
       "    <tr>\n",
       "      <th>4</th>\n",
       "      <td>【#浙江两单位因懒政怠政被颁蜗牛奖#】近日，浙江缙云县召开了一场没有掌声的“颁奖礼”。县水利...</td>\n",
       "    </tr>\n",
       "    <tr>\n",
       "      <th>...</th>\n",
       "      <td>...</td>\n",
       "    </tr>\n",
       "    <tr>\n",
       "      <th>112335</th>\n",
       "      <td>【视频：香港南丫岛撞船事故最新情况】最新情况：死亡人数已上升至36人，事故仍有失踪者，已派出...</td>\n",
       "    </tr>\n",
       "    <tr>\n",
       "      <th>112336</th>\n",
       "      <td>#指尖上的高速# 北京京藏高速出行方向部分路段车流量大，大广高速密云县出京方向北庄段、六环路...</td>\n",
       "    </tr>\n",
       "    <tr>\n",
       "      <th>112337</th>\n",
       "      <td>【日本本州东海岸发生6.2级地震】根据美国地质勘探局地震信息网的消息，当地时间2号早上7点2...</td>\n",
       "    </tr>\n",
       "    <tr>\n",
       "      <th>112338</th>\n",
       "      <td>#最in信息#【视频：北京故宫迎来旅游高峰】据记者报道，1日客流比去年同期增长3万多人次，至...</td>\n",
       "    </tr>\n",
       "    <tr>\n",
       "      <th>112340</th>\n",
       "      <td>【召回本田】共同社快讯：本田公司1日宣布，由于动力转向管存在安全隐患，将在北美市场召回60....</td>\n",
       "    </tr>\n",
       "  </tbody>\n",
       "</table>\n",
       "<p>110458 rows × 1 columns</p>\n",
       "</div>"
      ],
      "text/plain": [
       "                                                  content\n",
       "0       【24小时不间断！#央视新闻正直播#】今天，@央视新闻 #买遍中国#带货直播打卡贵州，晚20...\n",
       "1       #买遍中国#【今晚20点！有场很下饭的直播等你来看[馋嘴]】今晚20点，#买遍中国#贵州站！...\n",
       "2       #云游中国#【走，带你游多彩贵州！[心]】逛一逛飞角重檐相间的青岩古镇，再去猴耳天坑云端漫步...\n",
       "3       【自损一千伤敌八百 #美国在焦虑啥#[思考]】目前，包括华为在内共有150多家关联公司被美国...\n",
       "4       【#浙江两单位因懒政怠政被颁蜗牛奖#】近日，浙江缙云县召开了一场没有掌声的“颁奖礼”。县水利...\n",
       "...                                                   ...\n",
       "112335  【视频：香港南丫岛撞船事故最新情况】最新情况：死亡人数已上升至36人，事故仍有失踪者，已派出...\n",
       "112336  #指尖上的高速# 北京京藏高速出行方向部分路段车流量大，大广高速密云县出京方向北庄段、六环路...\n",
       "112337  【日本本州东海岸发生6.2级地震】根据美国地质勘探局地震信息网的消息，当地时间2号早上7点2...\n",
       "112338  #最in信息#【视频：北京故宫迎来旅游高峰】据记者报道，1日客流比去年同期增长3万多人次，至...\n",
       "112340  【召回本田】共同社快讯：本田公司1日宣布，由于动力转向管存在安全隐患，将在北美市场召回60....\n",
       "\n",
       "[110458 rows x 1 columns]"
      ]
     },
     "execution_count": 3,
     "metadata": {},
     "output_type": "execute_result"
    }
   ],
   "source": [
    "pd.read_csv('data/result_Weibo_CCTVNEWS.csv', encoding = 'utf8').drop_duplicates()"
   ]
  },
  {
   "cell_type": "code",
   "execution_count": null,
   "metadata": {},
   "outputs": [],
   "source": []
  }
 ],
 "metadata": {
  "kernelspec": {
   "display_name": "Python 3",
   "language": "python",
   "name": "python3"
  },
  "language_info": {
   "codemirror_mode": {
    "name": "ipython",
    "version": 3
   },
   "file_extension": ".py",
   "mimetype": "text/x-python",
   "name": "python",
   "nbconvert_exporter": "python",
   "pygments_lexer": "ipython3",
   "version": "3.7.4"
  }
 },
 "nbformat": 4,
 "nbformat_minor": 4
}
