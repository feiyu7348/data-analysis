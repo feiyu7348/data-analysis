{
 "cells": [
  {
   "cell_type": "markdown",
   "metadata": {},
   "source": [
    "## 10.基于协同过滤、矩阵分解推荐算法的电影的评分预测\n"
   ]
  },
  {
   "cell_type": "code",
   "execution_count": 1,
   "metadata": {},
   "outputs": [],
   "source": [
    "import pandas as pd\n",
    "from surprise import SVD\n",
    "from surprise import KNNBasic\n",
    "from surprise import Dataset\n",
    "from surprise import Reader\n",
    "from surprise.model_selection import train_test_split\n",
    "from surprise import accuracy\n",
    "from surprise.model_selection import cross_validate\n",
    "from surprise.model_selection import GridSearchCV"
   ]
  },
  {
   "cell_type": "code",
   "execution_count": 2,
   "metadata": {},
   "outputs": [
    {
     "data": {
      "text/html": [
       "<div>\n",
       "<style scoped>\n",
       "    .dataframe tbody tr th:only-of-type {\n",
       "        vertical-align: middle;\n",
       "    }\n",
       "\n",
       "    .dataframe tbody tr th {\n",
       "        vertical-align: top;\n",
       "    }\n",
       "\n",
       "    .dataframe thead th {\n",
       "        text-align: right;\n",
       "    }\n",
       "</style>\n",
       "<table border=\"1\" class=\"dataframe\">\n",
       "  <thead>\n",
       "    <tr style=\"text-align: right;\">\n",
       "      <th></th>\n",
       "      <th>用户原始ID</th>\n",
       "      <th>电影原始ID</th>\n",
       "      <th>评分</th>\n",
       "      <th>时间戳</th>\n",
       "    </tr>\n",
       "  </thead>\n",
       "  <tbody>\n",
       "    <tr>\n",
       "      <th>0</th>\n",
       "      <td>196</td>\n",
       "      <td>242</td>\n",
       "      <td>3</td>\n",
       "      <td>881250949</td>\n",
       "    </tr>\n",
       "    <tr>\n",
       "      <th>1</th>\n",
       "      <td>186</td>\n",
       "      <td>302</td>\n",
       "      <td>3</td>\n",
       "      <td>891717742</td>\n",
       "    </tr>\n",
       "    <tr>\n",
       "      <th>2</th>\n",
       "      <td>22</td>\n",
       "      <td>377</td>\n",
       "      <td>1</td>\n",
       "      <td>878887116</td>\n",
       "    </tr>\n",
       "    <tr>\n",
       "      <th>3</th>\n",
       "      <td>244</td>\n",
       "      <td>51</td>\n",
       "      <td>2</td>\n",
       "      <td>880606923</td>\n",
       "    </tr>\n",
       "    <tr>\n",
       "      <th>4</th>\n",
       "      <td>166</td>\n",
       "      <td>346</td>\n",
       "      <td>1</td>\n",
       "      <td>886397596</td>\n",
       "    </tr>\n",
       "    <tr>\n",
       "      <th>...</th>\n",
       "      <td>...</td>\n",
       "      <td>...</td>\n",
       "      <td>...</td>\n",
       "      <td>...</td>\n",
       "    </tr>\n",
       "    <tr>\n",
       "      <th>99995</th>\n",
       "      <td>880</td>\n",
       "      <td>476</td>\n",
       "      <td>3</td>\n",
       "      <td>880175444</td>\n",
       "    </tr>\n",
       "    <tr>\n",
       "      <th>99996</th>\n",
       "      <td>716</td>\n",
       "      <td>204</td>\n",
       "      <td>5</td>\n",
       "      <td>879795543</td>\n",
       "    </tr>\n",
       "    <tr>\n",
       "      <th>99997</th>\n",
       "      <td>276</td>\n",
       "      <td>1090</td>\n",
       "      <td>1</td>\n",
       "      <td>874795795</td>\n",
       "    </tr>\n",
       "    <tr>\n",
       "      <th>99998</th>\n",
       "      <td>13</td>\n",
       "      <td>225</td>\n",
       "      <td>2</td>\n",
       "      <td>882399156</td>\n",
       "    </tr>\n",
       "    <tr>\n",
       "      <th>99999</th>\n",
       "      <td>12</td>\n",
       "      <td>203</td>\n",
       "      <td>3</td>\n",
       "      <td>879959583</td>\n",
       "    </tr>\n",
       "  </tbody>\n",
       "</table>\n",
       "<p>100000 rows × 4 columns</p>\n",
       "</div>"
      ],
      "text/plain": [
       "       用户原始ID  电影原始ID  评分        时间戳\n",
       "0         196     242   3  881250949\n",
       "1         186     302   3  891717742\n",
       "2          22     377   1  878887116\n",
       "3         244      51   2  880606923\n",
       "4         166     346   1  886397596\n",
       "...       ...     ...  ..        ...\n",
       "99995     880     476   3  880175444\n",
       "99996     716     204   5  879795543\n",
       "99997     276    1090   1  874795795\n",
       "99998      13     225   2  882399156\n",
       "99999      12     203   3  879959583\n",
       "\n",
       "[100000 rows x 4 columns]"
      ]
     },
     "execution_count": 2,
     "metadata": {},
     "output_type": "execute_result"
    }
   ],
   "source": [
    "#导入并查看数据集\n",
    "data_df=pd.read_csv('data/data_u.csv',encoding='gbk')\n",
    "data_df"
   ]
  },
  {
   "cell_type": "code",
   "execution_count": 3,
   "metadata": {},
   "outputs": [
    {
     "data": {
      "text/plain": [
       "269       476\n",
       "555      1061\n",
       "725       948\n",
       "4333     1160\n",
       "7210      127\n",
       "8995      301\n",
       "10129     252\n",
       "11609     340\n",
       "12119    1405\n",
       "12917     302\n",
       "Name: 电影原始ID, dtype: int64"
      ]
     },
     "execution_count": 3,
     "metadata": {},
     "output_type": "execute_result"
    }
   ],
   "source": [
    "#显示用户原始id为192的用户打分的电影id，显示前10个\n",
    "data_df[data_df['用户原始ID']==192]['电影原始ID'][0:10]"
   ]
  },
  {
   "cell_type": "code",
   "execution_count": 4,
   "metadata": {},
   "outputs": [
    {
     "data": {
      "text/plain": [
       "0       196\n",
       "253      63\n",
       "629     226\n",
       "1232    154\n",
       "2159    306\n",
       "2335    296\n",
       "2600     34\n",
       "3484    271\n",
       "4082    201\n",
       "5548    209\n",
       "Name: 用户原始ID, dtype: int64"
      ]
     },
     "execution_count": 4,
     "metadata": {},
     "output_type": "execute_result"
    }
   ],
   "source": [
    "data_df[data_df['电影原始ID']==242]['用户原始ID'][0:10]"
   ]
  },
  {
   "cell_type": "code",
   "execution_count": 5,
   "metadata": {},
   "outputs": [],
   "source": [
    "#删除时间戳，转为dataset数据集备用\n",
    "data_df=data_df.drop(['时间戳'],axis=1)\n",
    "reader = Reader()\n",
    "dataset = Dataset.load_from_df(data_df,reader)"
   ]
  },
  {
   "cell_type": "code",
   "execution_count": 6,
   "metadata": {
    "scrolled": true
   },
   "outputs": [],
   "source": [
    "#用SVD算法创建矩阵分解模型\n",
    "param_grid = {'n_epochs': [5, 10], 'lr_all': [0.02,0.005],'reg_all': [0.2,0.4]}\n",
    "model_svdGridSearch = GridSearchCV(SVD, param_grid, measures=['rmse', 'mae'], cv=3,refit='rmse')"
   ]
  },
  {
   "cell_type": "code",
   "execution_count": 7,
   "metadata": {},
   "outputs": [
    {
     "data": {
      "text/html": [
       "<div>\n",
       "<style scoped>\n",
       "    .dataframe tbody tr th:only-of-type {\n",
       "        vertical-align: middle;\n",
       "    }\n",
       "\n",
       "    .dataframe tbody tr th {\n",
       "        vertical-align: top;\n",
       "    }\n",
       "\n",
       "    .dataframe thead th {\n",
       "        text-align: right;\n",
       "    }\n",
       "</style>\n",
       "<table border=\"1\" class=\"dataframe\">\n",
       "  <thead>\n",
       "    <tr style=\"text-align: right;\">\n",
       "      <th></th>\n",
       "      <th>mean_test_rmse</th>\n",
       "      <th>rank_test_rmse</th>\n",
       "      <th>mean_test_mae</th>\n",
       "      <th>rank_test_mae</th>\n",
       "      <th>param_n_epochs</th>\n",
       "      <th>param_lr_all</th>\n",
       "      <th>param_reg_all</th>\n",
       "    </tr>\n",
       "  </thead>\n",
       "  <tbody>\n",
       "    <tr>\n",
       "      <th>0</th>\n",
       "      <td>0.952073</td>\n",
       "      <td>2</td>\n",
       "      <td>0.757533</td>\n",
       "      <td>2</td>\n",
       "      <td>5</td>\n",
       "      <td>0.020</td>\n",
       "      <td>0.2</td>\n",
       "    </tr>\n",
       "    <tr>\n",
       "      <th>1</th>\n",
       "      <td>0.961698</td>\n",
       "      <td>5</td>\n",
       "      <td>0.769631</td>\n",
       "      <td>5</td>\n",
       "      <td>5</td>\n",
       "      <td>0.020</td>\n",
       "      <td>0.4</td>\n",
       "    </tr>\n",
       "    <tr>\n",
       "      <th>2</th>\n",
       "      <td>0.965819</td>\n",
       "      <td>7</td>\n",
       "      <td>0.770992</td>\n",
       "      <td>6</td>\n",
       "      <td>5</td>\n",
       "      <td>0.005</td>\n",
       "      <td>0.2</td>\n",
       "    </tr>\n",
       "    <tr>\n",
       "      <th>3</th>\n",
       "      <td>0.973686</td>\n",
       "      <td>8</td>\n",
       "      <td>0.781479</td>\n",
       "      <td>8</td>\n",
       "      <td>5</td>\n",
       "      <td>0.005</td>\n",
       "      <td>0.4</td>\n",
       "    </tr>\n",
       "    <tr>\n",
       "      <th>4</th>\n",
       "      <td>0.948956</td>\n",
       "      <td>1</td>\n",
       "      <td>0.754516</td>\n",
       "      <td>1</td>\n",
       "      <td>10</td>\n",
       "      <td>0.020</td>\n",
       "      <td>0.2</td>\n",
       "    </tr>\n",
       "    <tr>\n",
       "      <th>5</th>\n",
       "      <td>0.959637</td>\n",
       "      <td>4</td>\n",
       "      <td>0.767698</td>\n",
       "      <td>4</td>\n",
       "      <td>10</td>\n",
       "      <td>0.020</td>\n",
       "      <td>0.4</td>\n",
       "    </tr>\n",
       "    <tr>\n",
       "      <th>6</th>\n",
       "      <td>0.954978</td>\n",
       "      <td>3</td>\n",
       "      <td>0.760869</td>\n",
       "      <td>3</td>\n",
       "      <td>10</td>\n",
       "      <td>0.005</td>\n",
       "      <td>0.2</td>\n",
       "    </tr>\n",
       "    <tr>\n",
       "      <th>7</th>\n",
       "      <td>0.963772</td>\n",
       "      <td>6</td>\n",
       "      <td>0.772150</td>\n",
       "      <td>7</td>\n",
       "      <td>10</td>\n",
       "      <td>0.005</td>\n",
       "      <td>0.4</td>\n",
       "    </tr>\n",
       "  </tbody>\n",
       "</table>\n",
       "</div>"
      ],
      "text/plain": [
       "   mean_test_rmse  rank_test_rmse  mean_test_mae  rank_test_mae  \\\n",
       "0        0.952073               2       0.757533              2   \n",
       "1        0.961698               5       0.769631              5   \n",
       "2        0.965819               7       0.770992              6   \n",
       "3        0.973686               8       0.781479              8   \n",
       "4        0.948956               1       0.754516              1   \n",
       "5        0.959637               4       0.767698              4   \n",
       "6        0.954978               3       0.760869              3   \n",
       "7        0.963772               6       0.772150              7   \n",
       "\n",
       "   param_n_epochs  param_lr_all  param_reg_all  \n",
       "0               5         0.020            0.2  \n",
       "1               5         0.020            0.4  \n",
       "2               5         0.005            0.2  \n",
       "3               5         0.005            0.4  \n",
       "4              10         0.020            0.2  \n",
       "5              10         0.020            0.4  \n",
       "6              10         0.005            0.2  \n",
       "7              10         0.005            0.4  "
      ]
     },
     "execution_count": 7,
     "metadata": {},
     "output_type": "execute_result"
    }
   ],
   "source": [
    "#训练并显示结果\n",
    "model_svdGridSearch.fit(dataset)\n",
    "results_df = pd.DataFrame.from_dict(model_svdGridSearch.cv_results)\n",
    "results_df[['mean_test_rmse','rank_test_rmse','mean_test_mae','rank_test_mae','param_n_epochs','param_lr_all','param_reg_all']]"
   ]
  },
  {
   "cell_type": "code",
   "execution_count": 8,
   "metadata": {},
   "outputs": [
    {
     "data": {
      "text/plain": [
       "Prediction(uid=196, iid=242, r_ui=3, est=3.884172846127149, details={'was_impossible': False})"
      ]
     },
     "execution_count": 8,
     "metadata": {},
     "output_type": "execute_result"
    }
   ],
   "source": [
    "#根据模型预测具体用户的评分\n",
    "uid=196\n",
    "iid=242\n",
    "r_ui=data_df[(data_df['用户原始ID']==uid)&( data_df['电影原始ID']==iid)]['评分']#查询真实评分\n",
    "y_pred = model_svdGridSearch.predict(uid,iid,r_ui[0])#预测\n",
    "y_pred"
   ]
  },
  {
   "cell_type": "code",
   "execution_count": 9,
   "metadata": {},
   "outputs": [
    {
     "data": {
      "text/plain": [
       "Prediction(uid=196, iid=302, r_ui=None, est=4.021196171625454, details={'was_impossible': False})"
      ]
     },
     "execution_count": 9,
     "metadata": {},
     "output_type": "execute_result"
    }
   ],
   "source": [
    "#预测此用户还没有评分的电影\n",
    "uid=196\n",
    "iid=302\n",
    "y_pred = model_svdGridSearch.predict(uid,iid)\n",
    "y_pred"
   ]
  },
  {
   "cell_type": "code",
   "execution_count": 10,
   "metadata": {},
   "outputs": [],
   "source": [
    "#基于用户的协同过滤，由KNN呈现\n",
    "model_userCF = KNNBasic()"
   ]
  },
  {
   "cell_type": "code",
   "execution_count": 11,
   "metadata": {},
   "outputs": [
    {
     "name": "stdout",
     "output_type": "stream",
     "text": [
      "Computing the msd similarity matrix...\n",
      "Done computing similarity matrix.\n",
      "Computing the msd similarity matrix...\n",
      "Done computing similarity matrix.\n",
      "Computing the msd similarity matrix...\n",
      "Done computing similarity matrix.\n",
      "Evaluating RMSE, MAE of algorithm KNNBasic on 3 split(s).\n",
      "\n",
      "                  Fold 1  Fold 2  Fold 3  Mean    Std     \n",
      "RMSE (testset)    0.9941  0.9853  0.9868  0.9887  0.0038  \n",
      "MAE (testset)     0.7864  0.7783  0.7796  0.7814  0.0035  \n",
      "Fit time          0.30    0.31    0.31    0.31    0.01    \n",
      "Test time         4.13    4.42    3.95    4.16    0.19    \n"
     ]
    },
    {
     "data": {
      "text/plain": [
       "{'test_rmse': array([0.9940848 , 0.98532802, 0.98676819]),\n",
       " 'test_mae': array([0.78636561, 0.77833435, 0.77964308]),\n",
       " 'fit_time': (0.29720211029052734, 0.30714917182922363, 0.31186580657958984),\n",
       " 'test_time': (4.126725673675537, 4.415165185928345, 3.9460952281951904)}"
      ]
     },
     "execution_count": 11,
     "metadata": {},
     "output_type": "execute_result"
    }
   ],
   "source": [
    "#3折交叉验证\n",
    "cross_validate(model_userCF, dataset, measures=['RMSE','MAE'],cv=3,verbose=True)"
   ]
  },
  {
   "cell_type": "code",
   "execution_count": 12,
   "metadata": {},
   "outputs": [
    {
     "data": {
      "text/plain": [
       "Prediction(uid=196, iid=242, r_ui=3, est=3.697768654629064, details={'actual_k': 40, 'was_impossible': False})"
      ]
     },
     "execution_count": 12,
     "metadata": {},
     "output_type": "execute_result"
    }
   ],
   "source": [
    "#预测评分对比真实评分\n",
    "uid=196\n",
    "iid=242\n",
    "r_ui=r_ui=data_df[(data_df['用户原始ID']==uid)&( data_df['电影原始ID']==iid)]['评分']\n",
    "y_pred = model_userCF.predict(uid,iid,r_ui[0])\n",
    "y_pred"
   ]
  },
  {
   "cell_type": "code",
   "execution_count": 13,
   "metadata": {},
   "outputs": [
    {
     "data": {
      "text/plain": [
       "Prediction(uid=196, iid=302, r_ui=None, est=4.139915664767948, details={'actual_k': 40, 'was_impossible': False})"
      ]
     },
     "execution_count": 13,
     "metadata": {},
     "output_type": "execute_result"
    }
   ],
   "source": [
    "#预测此用户还没有评分的电影\n",
    "uid=196\n",
    "iid=302\n",
    "y_pred = model_userCF.predict(uid,iid)\n",
    "y_pred"
   ]
  },
  {
   "cell_type": "code",
   "execution_count": 14,
   "metadata": {},
   "outputs": [],
   "source": [
    "#基于物品的协同过滤模型\n",
    "sim_options = {'name': 'pearson_baseline', 'user_based': False}#计算相似度\n",
    "model_itemCF = KNNBasic(sim_options=sim_options)"
   ]
  },
  {
   "cell_type": "code",
   "execution_count": 15,
   "metadata": {},
   "outputs": [
    {
     "name": "stdout",
     "output_type": "stream",
     "text": [
      "Estimating biases using als...\n",
      "Computing the pearson_baseline similarity matrix...\n",
      "Done computing similarity matrix.\n",
      "RMSE: 0.9943\n",
      "MAE:  0.7800\n"
     ]
    },
    {
     "data": {
      "text/plain": [
       "0.7800139914875311"
      ]
     },
     "execution_count": 15,
     "metadata": {},
     "output_type": "execute_result"
    }
   ],
   "source": [
    "#评估算法模型\n",
    "trainset,testset = train_test_split(dataset)\n",
    "model_itemCF.fit(trainset)\n",
    "predictions = model_itemCF.test(testset)\n",
    "accuracy.rmse(predictions)\n",
    "accuracy.mae(predictions)"
   ]
  },
  {
   "cell_type": "code",
   "execution_count": 16,
   "metadata": {},
   "outputs": [
    {
     "data": {
      "text/plain": [
       "Prediction(uid=196, iid=242, r_ui=3, est=3.697768654629064, details={'actual_k': 40, 'was_impossible': False})"
      ]
     },
     "execution_count": 16,
     "metadata": {},
     "output_type": "execute_result"
    }
   ],
   "source": [
    "uid=196\n",
    "iid=242\n",
    "r_ui=r_ui=data_df[(data_df['用户原始ID']==uid)&( data_df['电影原始ID']==iid)]['评分']\n",
    "y_pred = model_userCF.predict(uid,iid,r_ui[0])\n",
    "y_pred"
   ]
  },
  {
   "cell_type": "code",
   "execution_count": 17,
   "metadata": {},
   "outputs": [
    {
     "data": {
      "text/plain": [
       "Prediction(uid=196, iid=302, r_ui=None, est=4.139915664767948, details={'actual_k': 40, 'was_impossible': False})"
      ]
     },
     "execution_count": 17,
     "metadata": {},
     "output_type": "execute_result"
    }
   ],
   "source": [
    "uid=196\n",
    "iid=302\n",
    "y_pred = model_userCF.predict(uid,iid)\n",
    "y_pred"
   ]
  },
  {
   "cell_type": "code",
   "execution_count": 18,
   "metadata": {},
   "outputs": [
    {
     "data": {
      "text/html": [
       "<div>\n",
       "<style scoped>\n",
       "    .dataframe tbody tr th:only-of-type {\n",
       "        vertical-align: middle;\n",
       "    }\n",
       "\n",
       "    .dataframe tbody tr th {\n",
       "        vertical-align: top;\n",
       "    }\n",
       "\n",
       "    .dataframe thead th {\n",
       "        text-align: right;\n",
       "    }\n",
       "</style>\n",
       "<table border=\"1\" class=\"dataframe\">\n",
       "  <thead>\n",
       "    <tr style=\"text-align: right;\">\n",
       "      <th></th>\n",
       "      <th>电影名称</th>\n",
       "      <th>电影原始ID</th>\n",
       "    </tr>\n",
       "  </thead>\n",
       "  <tbody>\n",
       "    <tr>\n",
       "      <th>0</th>\n",
       "      <td>Toy Story (1995)</td>\n",
       "      <td>1</td>\n",
       "    </tr>\n",
       "    <tr>\n",
       "      <th>1</th>\n",
       "      <td>GoldenEye (1995)</td>\n",
       "      <td>2</td>\n",
       "    </tr>\n",
       "    <tr>\n",
       "      <th>2</th>\n",
       "      <td>Four Rooms (1995)</td>\n",
       "      <td>3</td>\n",
       "    </tr>\n",
       "    <tr>\n",
       "      <th>3</th>\n",
       "      <td>Get Shorty (1995)</td>\n",
       "      <td>4</td>\n",
       "    </tr>\n",
       "    <tr>\n",
       "      <th>4</th>\n",
       "      <td>Copycat (1995)</td>\n",
       "      <td>5</td>\n",
       "    </tr>\n",
       "    <tr>\n",
       "      <th>...</th>\n",
       "      <td>...</td>\n",
       "      <td>...</td>\n",
       "    </tr>\n",
       "    <tr>\n",
       "      <th>1677</th>\n",
       "      <td>Mat' i syn (1997)</td>\n",
       "      <td>1678</td>\n",
       "    </tr>\n",
       "    <tr>\n",
       "      <th>1678</th>\n",
       "      <td>B. Monkey (1998)</td>\n",
       "      <td>1679</td>\n",
       "    </tr>\n",
       "    <tr>\n",
       "      <th>1679</th>\n",
       "      <td>Sliding Doors (1998)</td>\n",
       "      <td>1680</td>\n",
       "    </tr>\n",
       "    <tr>\n",
       "      <th>1680</th>\n",
       "      <td>You So Crazy (1994)</td>\n",
       "      <td>1681</td>\n",
       "    </tr>\n",
       "    <tr>\n",
       "      <th>1681</th>\n",
       "      <td>Scream of Stone (Schrei aus Stein) (1991)</td>\n",
       "      <td>1682</td>\n",
       "    </tr>\n",
       "  </tbody>\n",
       "</table>\n",
       "<p>1682 rows × 2 columns</p>\n",
       "</div>"
      ],
      "text/plain": [
       "                                           电影名称  电影原始ID\n",
       "0                              Toy Story (1995)       1\n",
       "1                              GoldenEye (1995)       2\n",
       "2                             Four Rooms (1995)       3\n",
       "3                             Get Shorty (1995)       4\n",
       "4                                Copycat (1995)       5\n",
       "...                                         ...     ...\n",
       "1677                          Mat' i syn (1997)    1678\n",
       "1678                           B. Monkey (1998)    1679\n",
       "1679                       Sliding Doors (1998)    1680\n",
       "1680                        You So Crazy (1994)    1681\n",
       "1681  Scream of Stone (Schrei aus Stein) (1991)    1682\n",
       "\n",
       "[1682 rows x 2 columns]"
      ]
     },
     "execution_count": 18,
     "metadata": {},
     "output_type": "execute_result"
    }
   ],
   "source": [
    "#显示电影表\n",
    "name_rid_df=pd.read_csv('data/data_item.csv')\n",
    "name_rid_df"
   ]
  },
  {
   "cell_type": "code",
   "execution_count": 19,
   "metadata": {},
   "outputs": [],
   "source": [
    "#建立新表，去除第一列，将原始id和名称作为索引\n",
    "rid_to_name = {}\n",
    "name_to_rid = {}\n",
    "\n",
    "for i in range(len(name_rid_df)):\n",
    "    rid_to_name[name_rid_df['电影原始ID'][i]]=name_rid_df['电影名称'][i]\n",
    "    name_to_rid[name_rid_df['电影名称'][i]]=name_rid_df['电影原始ID'][i]"
   ]
  },
  {
   "cell_type": "code",
   "execution_count": 20,
   "metadata": {},
   "outputs": [
    {
     "name": "stdout",
     "output_type": "stream",
     "text": [
      "字典rid_to_name中的前五个键值对如下所示:\n",
      "1 Toy Story (1995)\n",
      "2 GoldenEye (1995)\n",
      "3 Four Rooms (1995)\n",
      "4 Get Shorty (1995)\n",
      "5 Copycat (1995)\n",
      "字典name_to_rid中的前五个键值对如下所示:\n",
      "Toy Story (1995) 1\n",
      "GoldenEye (1995) 2\n",
      "Four Rooms (1995) 3\n",
      "Get Shorty (1995) 4\n",
      "Copycat (1995) 5\n"
     ]
    }
   ],
   "source": [
    "#显示表\n",
    "print(\"字典rid_to_name中的前五个键值对如下所示:\")\n",
    "for i, (k, v) in enumerate(rid_to_name.items()):\n",
    "    if i in range(5):                           \n",
    "        print(k, v)\n",
    "print(\"字典name_to_rid中的前五个键值对如下所示:\")        \n",
    "for i, (k, v) in enumerate(name_to_rid.items()):\n",
    "    if i in range(5):\n",
    "        print(k, v)"
   ]
  },
  {
   "cell_type": "code",
   "execution_count": 21,
   "metadata": {},
   "outputs": [
    {
     "name": "stdout",
     "output_type": "stream",
     "text": [
      "电影原始ID为： 2\n",
      "电影名称为： GoldenEye (1995)\n"
     ]
    }
   ],
   "source": [
    "#将原始id设为raw_id\n",
    "raw_id = name_to_rid['GoldenEye (1995)']\n",
    "print(\"电影原始ID为：\",raw_id)\n",
    "\n",
    "name = rid_to_name[raw_id]\n",
    "print(\"电影名称为：\",name)"
   ]
  },
  {
   "cell_type": "code",
   "execution_count": 22,
   "metadata": {
    "scrolled": true
   },
   "outputs": [
    {
     "name": "stdout",
     "output_type": "stream",
     "text": [
      "GoldenEye的内部ID为： 398\n"
     ]
    }
   ],
   "source": [
    "#rawid设为基于物品的协同过滤的内部id\n",
    "inner_id = model_itemCF.trainset.to_inner_iid(raw_id)\n",
    "print(\"GoldenEye的内部ID为：\",inner_id)"
   ]
  },
  {
   "cell_type": "code",
   "execution_count": 23,
   "metadata": {},
   "outputs": [
    {
     "name": "stdout",
     "output_type": "stream",
     "text": [
      "与GoldenEye最相似的10部电影的内部ID为： [91, 165, 204, 237, 322, 120, 629, 95, 488, 341]\n"
     ]
    }
   ],
   "source": [
    "#查找相似物品\n",
    "neighbors_iid_temp = model_itemCF.get_neighbors(inner_id, k=10)\n",
    "print(\"与GoldenEye最相似的10部电影的内部ID为：\",neighbors_iid_temp)"
   ]
  },
  {
   "cell_type": "code",
   "execution_count": 24,
   "metadata": {},
   "outputs": [
    {
     "data": {
      "text/plain": [
       "generator"
      ]
     },
     "execution_count": 24,
     "metadata": {},
     "output_type": "execute_result"
    }
   ],
   "source": [
    "neighbors_rid_temp= (model_itemCF.trainset.to_raw_iid(inner_id)for inner_id in neighbors_iid_temp)\n",
    "type(neighbors_rid_temp)"
   ]
  },
  {
   "cell_type": "code",
   "execution_count": 25,
   "metadata": {},
   "outputs": [
    {
     "name": "stdout",
     "output_type": "stream",
     "text": [
      "最相似的10部电影原始ID为： [385, 566, 405, 274, 576, 411, 578, 87, 926, 239]\n"
     ]
    }
   ],
   "source": [
    "neighbors_rid_temp_print= (model_itemCF.trainset.to_raw_iid(inner_id)for inner_id in neighbors_iid_temp)\n",
    "\n",
    "print(\"最相似的10部电影原始ID为：\",list(neighbors_rid_temp_print))"
   ]
  },
  {
   "cell_type": "code",
   "execution_count": 26,
   "metadata": {},
   "outputs": [
    {
     "name": "stdout",
     "output_type": "stream",
     "text": [
      "The 10 nearest neighbors of GoldenEye are:\n",
      "True Lies (1994)\n",
      "Clear and Present Danger (1994)\n",
      "Mission: Impossible (1996)\n",
      "Sabrina (1995)\n",
      "Cliffhanger (1993)\n",
      "Nutty Professor, The (1996)\n",
      "Demolition Man (1993)\n",
      "Searching for Bobby Fischer (1993)\n",
      "Down Periscope (1996)\n",
      "Sneakers (1992)\n"
     ]
    }
   ],
   "source": [
    "#根据原始id查找相似电影名称，结果良好，与007相似的大都为间谍片、动作片\n",
    "neighbors_name_temp = (rid_to_name[rid] for rid in neighbors_rid_temp)\n",
    "print('The 10 nearest neighbors of GoldenEye are:')\n",
    "for movie in neighbors_name_temp:\n",
    "    print(movie)"
   ]
  }
 ],
 "metadata": {
  "anaconda-cloud": {},
  "kernelspec": {
   "display_name": "Python 3",
   "language": "python",
   "name": "python3"
  },
  "language_info": {
   "codemirror_mode": {
    "name": "ipython",
    "version": 3
   },
   "file_extension": ".py",
   "mimetype": "text/x-python",
   "name": "python",
   "nbconvert_exporter": "python",
   "pygments_lexer": "ipython3",
   "version": "3.7.4"
  }
 },
 "nbformat": 4,
 "nbformat_minor": 1
}
