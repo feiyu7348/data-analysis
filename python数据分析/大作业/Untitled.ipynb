{
 "cells": [
  {
   "cell_type": "code",
   "execution_count": 1,
   "metadata": {},
   "outputs": [],
   "source": [
    "from selenium.webdriver import Chrome\n",
    "from selenium.webdriver.common.keys import Keys\n",
    "import pandas as pd\n",
    "import time\n",
    "import requests\n",
    "import json\n",
    "import re\n",
    "import xlrd\n",
    "import csv"
   ]
  },
  {
   "cell_type": "code",
   "execution_count": 2,
   "metadata": {},
   "outputs": [],
   "source": [
    "import matplotlib.pyplot as plt\n",
    "%matplotlib inline"
   ]
  },
  {
   "cell_type": "code",
   "execution_count": 3,
   "metadata": {},
   "outputs": [],
   "source": [
    "result ={}\n",
    "# 记录次数，格式为{nums:[name,自问自答次数，评论次数，签到次数]}"
   ]
  },
  {
   "cell_type": "code",
   "execution_count": 5,
   "metadata": {},
   "outputs": [],
   "source": [
    "with open('名单.csv', 'r',encoding='utf-8-sig') as f:\n",
    "    reader = csv.reader(f)\n",
    "    for row in reader:\n",
    "        result[row[0]]=[row[1],0,0,0]"
   ]
  },
  {
   "cell_type": "code",
   "execution_count": 6,
   "metadata": {
    "collapsed": true
   },
   "outputs": [
    {
     "data": {
      "text/plain": [
       "{'22019207065': ['张泽远', 0, 0, 0],\n",
       " '22019208018': ['王祎', 0, 0, 0],\n",
       " '22020210084': ['李睿', 0, 0, 0],\n",
       " '22020210088': ['韩文杰', 0, 0, 0],\n",
       " '22020210091': ['崔明悦', 0, 0, 0],\n",
       " '22020210092': ['吴英丽', 0, 0, 0],\n",
       " '22020210095': ['刘昭含', 0, 0, 0],\n",
       " '22020210096': ['张广芸', 0, 0, 0],\n",
       " '22020210097': ['高玉莹', 0, 0, 0],\n",
       " '22020210099': ['田光彬', 0, 0, 0],\n",
       " '22020210102': ['桂启磊', 0, 0, 0],\n",
       " '22020210103': ['高忠', 0, 0, 0],\n",
       " '22020210104': ['张淑琪', 0, 0, 0],\n",
       " '22020210105': ['刘聪', 0, 0, 0],\n",
       " '22020210106': ['陈冰', 0, 0, 0],\n",
       " '22020210107': ['肖瑶', 0, 0, 0],\n",
       " '22020210109': ['彭佳', 0, 0, 0],\n",
       " '22020210110': ['李梦雪', 0, 0, 0],\n",
       " '22020210111': ['胡军', 0, 0, 0],\n",
       " '22020210112': ['韩鑫', 0, 0, 0],\n",
       " '22020210113': ['董欣雨', 0, 0, 0],\n",
       " '22020030091': ['罗德鑫', 0, 0, 0],\n",
       " '22020039991': ['张明明', 0, 0, 0],\n",
       " '22020110133': ['李兴超', 0, 0, 0],\n",
       " '22020120001': ['王海萍', 0, 0, 0],\n",
       " '22020120002': ['石倩', 0, 0, 0],\n",
       " '22020120003': ['杨婷', 0, 0, 0],\n",
       " '22020120004': ['郁爱萍', 0, 0, 0],\n",
       " '22020120006': ['刘姣', 0, 0, 0],\n",
       " '22020120009': ['赵子树', 0, 0, 0],\n",
       " '22020120012': ['王梓晗', 0, 0, 0],\n",
       " '22020120060': ['孙可欣', 0, 0, 0],\n",
       " '22020120073': ['郭慧鑫', 0, 0, 0],\n",
       " '22020210007': ['张杜鹃', 0, 0, 0],\n",
       " '22020210008': ['张旭', 0, 0, 0],\n",
       " '22020210009': ['张峻杰', 0, 0, 0],\n",
       " '22020210010': ['武梦笛', 0, 0, 0],\n",
       " '22020210011': ['王丽然', 0, 0, 0],\n",
       " '22020210012': ['张放', 0, 0, 0],\n",
       " '22020210013': ['李沛璇', 0, 0, 0],\n",
       " '22020210014': ['李健博', 0, 0, 0],\n",
       " '22020210015': ['李夏猗', 0, 0, 0],\n",
       " '22020210016': ['郭稼乐', 0, 0, 0],\n",
       " '22020210017': ['宋昊', 0, 0, 0],\n",
       " '22020210018': ['王琦', 0, 0, 0],\n",
       " '22020210019': ['高蝶', 0, 0, 0],\n",
       " '22020210020': ['刘羽', 0, 0, 0],\n",
       " '22020210021': ['刘子卓', 0, 0, 0],\n",
       " '22020210022': ['毛甫成', 0, 0, 0],\n",
       " '22020210023': ['李岚婷', 0, 0, 0],\n",
       " '22020210024': ['齐春晖', 0, 0, 0],\n",
       " '22020210025': ['尹彭', 0, 0, 0],\n",
       " '22020210026': ['赵佳', 0, 0, 0],\n",
       " '22020210027': ['单腾飞', 0, 0, 0],\n",
       " '22020210028': ['时少丹', 0, 0, 0],\n",
       " '22020210029': ['韦敬宣', 0, 0, 0],\n",
       " '22020210030': ['郭佳丽', 0, 0, 0],\n",
       " '22020210031': ['张鸿伟', 0, 0, 0],\n",
       " '22020210035': ['石如昆', 0, 0, 0],\n",
       " '22020210050': ['白曼', 0, 0, 0],\n",
       " '22020210056': ['王娇', 0, 0, 0],\n",
       " '22020219991': ['许慧良', 0, 0, 0],\n",
       " '22020210032': ['贾轩', 0, 0, 0],\n",
       " '22020210033': ['王汝梦', 0, 0, 0],\n",
       " '22020210036': ['张飞宇', 0, 0, 0],\n",
       " '22020210037': ['蔡潇丹', 0, 0, 0],\n",
       " '22020210038': ['张志宇', 0, 0, 0],\n",
       " '22020210039': ['王宇轩', 0, 0, 0],\n",
       " '22020210040': ['崔明月', 0, 0, 0],\n",
       " '22020210041': ['李宗岳', 0, 0, 0],\n",
       " '22020210042': ['陈立仲', 0, 0, 0],\n",
       " '22020210043': ['何惠', 0, 0, 0],\n",
       " '22020210044': ['张劭贤', 0, 0, 0],\n",
       " '22020210045': ['李翔', 0, 0, 0],\n",
       " '22020210046': ['余欣明', 0, 0, 0],\n",
       " '22020210047': ['周春旭', 0, 0, 0],\n",
       " '22020210048': ['万宏宇', 0, 0, 0],\n",
       " '22020210049': ['刘双婷', 0, 0, 0],\n",
       " '22020210051': ['谢磊鹏', 0, 0, 0],\n",
       " '22020210052': ['刘中飞', 0, 0, 0],\n",
       " '22020210054': ['封文森', 0, 0, 0],\n",
       " '22020210055': ['张宇峰', 0, 0, 0],\n",
       " '32017070001': ['于鸣霄', 0, 0, 0],\n",
       " '32017070008': ['崔家欣', 0, 0, 0],\n",
       " '32017070010': ['徐晓飞', 0, 0, 0],\n",
       " '32017070014': ['曾宪春', 0, 0, 0],\n",
       " '32017070022': ['杨雅婷', 0, 0, 0],\n",
       " '32017070030': ['王玲月', 0, 0, 0],\n",
       " '32017070033': ['秦昊堃', 0, 0, 0],\n",
       " '32017070057': ['吴浩', 0, 0, 0],\n",
       " '32017070061': ['张哲宇', 0, 0, 0],\n",
       " '32017070064': ['张暄杰', 0, 0, 0],\n",
       " '32017070079': ['王瀚', 0, 0, 0],\n",
       " '32017070086': ['谭紫荷', 0, 0, 0],\n",
       " '32017070090': ['邹远洋', 0, 0, 0],\n",
       " '32017070096': ['颜紫欣', 0, 0, 0],\n",
       " '32017070097': ['鹿方圆', 0, 0, 0],\n",
       " '32017070139': ['周冰雪', 0, 0, 0],\n",
       " '32017110044': ['张博文', 0, 0, 0],\n",
       " '32017120048': ['叶芸杉', 0, 0, 0],\n",
       " '32017120066': ['李云天', 0, 0, 0],\n",
       " '32017120070': ['杜明旭', 0, 0, 0],\n",
       " '32017120095': ['马紫来', 0, 0, 0],\n",
       " '32017120096': ['高子轩', 0, 0, 0],\n",
       " '32017150053': ['郝雨桐', 0, 0, 0],\n",
       " '32017150058': ['龙菁', 0, 0, 0]}"
      ]
     },
     "execution_count": 6,
     "metadata": {},
     "output_type": "execute_result"
    }
   ],
   "source": [
    "result"
   ]
  },
  {
   "cell_type": "code",
   "execution_count": 10,
   "metadata": {},
   "outputs": [],
   "source": [
    "browser = Chrome()"
   ]
  },
  {
   "cell_type": "code",
   "execution_count": 9,
   "metadata": {},
   "outputs": [
    {
     "ename": "WebDriverException",
     "evalue": "Message: chrome not reachable\n  (Session info: chrome=86.0.4240.111)\n",
     "output_type": "error",
     "traceback": [
      "\u001b[1;31m---------------------------------------------------------------------------\u001b[0m",
      "\u001b[1;31mWebDriverException\u001b[0m                        Traceback (most recent call last)",
      "\u001b[1;32m<ipython-input-9-f0615716acbc>\u001b[0m in \u001b[0;36m<module>\u001b[1;34m\u001b[0m\n\u001b[1;32m----> 1\u001b[1;33m \u001b[0mbrowser\u001b[0m\u001b[1;33m.\u001b[0m\u001b[0mget\u001b[0m\u001b[1;33m(\u001b[0m\u001b[1;34m\"https://www.icourse163.org/\"\u001b[0m\u001b[1;33m)\u001b[0m\u001b[1;33m\u001b[0m\u001b[1;33m\u001b[0m\u001b[0m\n\u001b[0m",
      "\u001b[1;32mD:\\Anaconda3\\down\\lib\\site-packages\\selenium\\webdriver\\remote\\webdriver.py\u001b[0m in \u001b[0;36mget\u001b[1;34m(self, url)\u001b[0m\n\u001b[0;32m    331\u001b[0m         \u001b[0mLoads\u001b[0m \u001b[0ma\u001b[0m \u001b[0mweb\u001b[0m \u001b[0mpage\u001b[0m \u001b[1;32min\u001b[0m \u001b[0mthe\u001b[0m \u001b[0mcurrent\u001b[0m \u001b[0mbrowser\u001b[0m \u001b[0msession\u001b[0m\u001b[1;33m.\u001b[0m\u001b[1;33m\u001b[0m\u001b[1;33m\u001b[0m\u001b[0m\n\u001b[0;32m    332\u001b[0m         \"\"\"\n\u001b[1;32m--> 333\u001b[1;33m         \u001b[0mself\u001b[0m\u001b[1;33m.\u001b[0m\u001b[0mexecute\u001b[0m\u001b[1;33m(\u001b[0m\u001b[0mCommand\u001b[0m\u001b[1;33m.\u001b[0m\u001b[0mGET\u001b[0m\u001b[1;33m,\u001b[0m \u001b[1;33m{\u001b[0m\u001b[1;34m'url'\u001b[0m\u001b[1;33m:\u001b[0m \u001b[0murl\u001b[0m\u001b[1;33m}\u001b[0m\u001b[1;33m)\u001b[0m\u001b[1;33m\u001b[0m\u001b[1;33m\u001b[0m\u001b[0m\n\u001b[0m\u001b[0;32m    334\u001b[0m \u001b[1;33m\u001b[0m\u001b[0m\n\u001b[0;32m    335\u001b[0m     \u001b[1;33m@\u001b[0m\u001b[0mproperty\u001b[0m\u001b[1;33m\u001b[0m\u001b[1;33m\u001b[0m\u001b[0m\n",
      "\u001b[1;32mD:\\Anaconda3\\down\\lib\\site-packages\\selenium\\webdriver\\remote\\webdriver.py\u001b[0m in \u001b[0;36mexecute\u001b[1;34m(self, driver_command, params)\u001b[0m\n\u001b[0;32m    319\u001b[0m         \u001b[0mresponse\u001b[0m \u001b[1;33m=\u001b[0m \u001b[0mself\u001b[0m\u001b[1;33m.\u001b[0m\u001b[0mcommand_executor\u001b[0m\u001b[1;33m.\u001b[0m\u001b[0mexecute\u001b[0m\u001b[1;33m(\u001b[0m\u001b[0mdriver_command\u001b[0m\u001b[1;33m,\u001b[0m \u001b[0mparams\u001b[0m\u001b[1;33m)\u001b[0m\u001b[1;33m\u001b[0m\u001b[1;33m\u001b[0m\u001b[0m\n\u001b[0;32m    320\u001b[0m         \u001b[1;32mif\u001b[0m \u001b[0mresponse\u001b[0m\u001b[1;33m:\u001b[0m\u001b[1;33m\u001b[0m\u001b[1;33m\u001b[0m\u001b[0m\n\u001b[1;32m--> 321\u001b[1;33m             \u001b[0mself\u001b[0m\u001b[1;33m.\u001b[0m\u001b[0merror_handler\u001b[0m\u001b[1;33m.\u001b[0m\u001b[0mcheck_response\u001b[0m\u001b[1;33m(\u001b[0m\u001b[0mresponse\u001b[0m\u001b[1;33m)\u001b[0m\u001b[1;33m\u001b[0m\u001b[1;33m\u001b[0m\u001b[0m\n\u001b[0m\u001b[0;32m    322\u001b[0m             response['value'] = self._unwrap_value(\n\u001b[0;32m    323\u001b[0m                 response.get('value', None))\n",
      "\u001b[1;32mD:\\Anaconda3\\down\\lib\\site-packages\\selenium\\webdriver\\remote\\errorhandler.py\u001b[0m in \u001b[0;36mcheck_response\u001b[1;34m(self, response)\u001b[0m\n\u001b[0;32m    240\u001b[0m                 \u001b[0malert_text\u001b[0m \u001b[1;33m=\u001b[0m \u001b[0mvalue\u001b[0m\u001b[1;33m[\u001b[0m\u001b[1;34m'alert'\u001b[0m\u001b[1;33m]\u001b[0m\u001b[1;33m.\u001b[0m\u001b[0mget\u001b[0m\u001b[1;33m(\u001b[0m\u001b[1;34m'text'\u001b[0m\u001b[1;33m)\u001b[0m\u001b[1;33m\u001b[0m\u001b[1;33m\u001b[0m\u001b[0m\n\u001b[0;32m    241\u001b[0m             \u001b[1;32mraise\u001b[0m \u001b[0mexception_class\u001b[0m\u001b[1;33m(\u001b[0m\u001b[0mmessage\u001b[0m\u001b[1;33m,\u001b[0m \u001b[0mscreen\u001b[0m\u001b[1;33m,\u001b[0m \u001b[0mstacktrace\u001b[0m\u001b[1;33m,\u001b[0m \u001b[0malert_text\u001b[0m\u001b[1;33m)\u001b[0m\u001b[1;33m\u001b[0m\u001b[1;33m\u001b[0m\u001b[0m\n\u001b[1;32m--> 242\u001b[1;33m         \u001b[1;32mraise\u001b[0m \u001b[0mexception_class\u001b[0m\u001b[1;33m(\u001b[0m\u001b[0mmessage\u001b[0m\u001b[1;33m,\u001b[0m \u001b[0mscreen\u001b[0m\u001b[1;33m,\u001b[0m \u001b[0mstacktrace\u001b[0m\u001b[1;33m)\u001b[0m\u001b[1;33m\u001b[0m\u001b[1;33m\u001b[0m\u001b[0m\n\u001b[0m\u001b[0;32m    243\u001b[0m \u001b[1;33m\u001b[0m\u001b[0m\n\u001b[0;32m    244\u001b[0m     \u001b[1;32mdef\u001b[0m \u001b[0m_value_or_default\u001b[0m\u001b[1;33m(\u001b[0m\u001b[0mself\u001b[0m\u001b[1;33m,\u001b[0m \u001b[0mobj\u001b[0m\u001b[1;33m,\u001b[0m \u001b[0mkey\u001b[0m\u001b[1;33m,\u001b[0m \u001b[0mdefault\u001b[0m\u001b[1;33m)\u001b[0m\u001b[1;33m:\u001b[0m\u001b[1;33m\u001b[0m\u001b[1;33m\u001b[0m\u001b[0m\n",
      "\u001b[1;31mWebDriverException\u001b[0m: Message: chrome not reachable\n  (Session info: chrome=86.0.4240.111)\n"
     ]
    }
   ],
   "source": [
    "browser.get(\"https://www.icourse163.org/\")"
   ]
  },
  {
   "cell_type": "code",
   "execution_count": null,
   "metadata": {},
   "outputs": [],
   "source": [
    "dictCookies = browser.get_cookies()\n",
    "jsonCookies = json.dumps(dictCookies)\n",
    "# print(jsonCookies)\n",
    "with open('anquan.txt', 'w') as f:\n",
    "   f.write(jsonCookies)"
   ]
  },
  {
   "cell_type": "code",
   "execution_count": null,
   "metadata": {},
   "outputs": [],
   "source": [
    "with open('anquan.txt', 'r', encoding='utf8') as f:\n",
    "    listCookies = json.loads(f.read())\n",
    "    print('%%%%%%%%%%%%%%%%%', listCookies)\n",
    "    for cookie in listCookies:\n",
    "        browser.add_cookie(cookie)\n",
    "    browser.get('https://www.icourse163.org/learn/CUEB-1450000234?tid=1461631472#/learn/content')\n",
    "time.sleep(2)\n",
    "# 先把第一章的菜单合上\n",
    "browser.find_element_by_xpath(r'//*[@class=\"titleBox j-titleBox f-cb\"]').click()"
   ]
  },
  {
   "cell_type": "code",
   "execution_count": null,
   "metadata": {},
   "outputs": [],
   "source": [
    "def reg(str_of_reg:str):\n",
    "    str_of_reg = str_of_reg.lower()\n",
    "    nums = re.compile(r\"(?<=\\+)\\d{11}\")\n",
    "    num = nums.findall(str_of_reg)\n",
    "    return num\n",
    "def cul_zwzd(nums):\n",
    "    if nums in result:\n",
    "        result[nums][1]+=1\n",
    "def cul_pl(nums):\n",
    "    if nums in result:\n",
    "        result[nums][2]+=1\n",
    "def cul_qd(nums):\n",
    "    if nums in result:\n",
    "        result[nums][3]+=1"
   ]
  },
  {
   "cell_type": "code",
   "execution_count": null,
   "metadata": {},
   "outputs": [],
   "source": [
    "def start_pa (i):\n",
    "    with open('anquan.txt', 'r', encoding='utf8') as f:\n",
    "        listCookies = json.loads(f.read())\n",
    "    for cookie in listCookies:\n",
    "        browser.add_cookie(cookie)\n",
    "#     try:\n",
    "    browser.get('https://www.icourse163.org/learn/CUEB-1450000234?tid=1461631472#/learn/content')\n",
    "    time.sleep(1)\n",
    "    chapter = browser.find_elements_by_xpath(r'//*[@class=\"titleBox j-titleBox f-cb\"]')\n",
    "    chapter = chapter[:-1]\n",
    "#     第一个菜单合上\n",
    "    suc = 1\n",
    "    while(suc):\n",
    "       try:\n",
    "            browser.find_element_by_xpath(r'//*[@class=\"titleBox j-titleBox f-cb\"]').click()\n",
    "            suc = 0\n",
    "       except:\n",
    "            pass\n",
    "#     点开第i个菜单\n",
    "    chapter[i].click()\n",
    "#     点开在里面找本章收获\n",
    "    time.sleep(1)\n",
    "    try:\n",
    "        questions = browser.find_elements_by_xpath(r'//*[@class=\"j-name name f-fl f-thide\"]')\n",
    "    #     except:\n",
    "    #         print(\"应该是网速的问题，不能再慢了\")\n",
    "        #     找到就点进去\n",
    "        for one_question in questions:\n",
    "            if \"本章收获与问题是什么\" in one_question.text:\n",
    "                one_question.click()\n",
    "                break\n",
    "    except:\n",
    "        print(f\"第{i}个菜单有问题\")\n",
    "    ye = 1\n",
    "    # 看看有多少页\n",
    "    time.sleep(1)\n",
    "    a = browser.find_elements_by_xpath(r'//*[@id=\"courseLearn-inner-box\"]/div/div/div[3]/div[1]/div[2]/div/div/div[4]/div/div[1]/div[2]//a')\n",
    "    ye_num = 1\n",
    "    try:\n",
    "        ye_num = int(a[-2].text)\n",
    "    except:\n",
    "        print(\"只有一页\")\n",
    "    while(ye <= ye_num):\n",
    "        try:\n",
    "    #       找所有自问自答\n",
    "            print(f\"正在爬第{ye}页\")\n",
    "            answer = browser.find_elements_by_xpath(r'//div[contains(@class,\"m-detailInfoItem\")]/div[2]/p')\n",
    "            for one_answer in answer:\n",
    "                if \"刘经纬\" in one_answer.text:\n",
    "                    continue\n",
    "                elif '++' in one_answer.text and '--'in one_answer.text and '=='in one_answer.text:\n",
    "                    nums= reg(one_answer.text)\n",
    "                    time.sleep(1)\n",
    "                    for one_num in range(len(nums)):\n",
    "                        cul_zwzd(nums[one_num])\n",
    "    #         找所有评论和签到\n",
    "    #         如果评论数很大就是签到，很小就是评论\n",
    "            comment = browser.find_elements_by_xpath(r'//div[contains(@class,\"m-comment-pool\")]')\n",
    "            qd_list =[]\n",
    "            for comment_num in range(len(comment)):\n",
    "                c = reg(comment[comment_num].text)\n",
    "                if len(c)>10:\n",
    "    #                 就是签到\n",
    "                    for qd_num in range(len(c)):\n",
    "                        cul_qd(c[qd_num])\n",
    "                    if len(c)==20:\n",
    "#                         如果有评论数是20的就记下来，可能需要点下一页。\n",
    "                        qd_list.append(comment_num)                     \n",
    "                if len(c)<=5:\n",
    "    #                 就是评论\n",
    "                    for m in range(len(c)):\n",
    "                        cul_pl(c[m])   \n",
    "    #         读完了之后把每一个下一页都点开\n",
    "            next_button = browser.find_elements_by_xpath(r'//a[contains(@class,\"zbtn znxt\")]')\n",
    "        except:\n",
    "            pass\n",
    "        if len(qd_list)>0:\n",
    "            try:\n",
    "                for nxt in qd_list:\n",
    "                    next_button[nxt].click()\n",
    "                time.sleep(1)\n",
    "                comment = browser.find_elements_by_xpath(r'//div[contains(@class,\"m-comment-pool\")]')\n",
    "                qd_list_again = []\n",
    "                for nxt in qd_list:\n",
    "                    c = reg(comment[nxt].text)\n",
    "                    if len(c)==20:\n",
    "                        qd_list_again.append(comment_num)\n",
    "                    for qd_num in range(len(c)):\n",
    "                        cul_qd(c[qd_num])\n",
    "                if len(qd_list_again)>0:\n",
    "                    for nxt in qd_list_again:\n",
    "                        next_button[nxt].click()\n",
    "                    time.sleep(1)\n",
    "                    comment = browser.find_elements_by_xpath(r'//div[contains(@class,\"m-comment-pool\")]')\n",
    "                    for nxt in qd_list_again:\n",
    "                        c = reg(comment[nxt].text)\n",
    "                        for qd_num in range(len(c)):\n",
    "                            cul_qd(c[qd_num])\n",
    "            except:\n",
    "                pass\n",
    "        \n",
    "        ye+=1\n",
    "        try:\n",
    "            next_page = browser.find_elements_by_xpath(r'//a[contains(@class,\"zbtn znxt\")]')\n",
    "            next_page[-1].click()\n",
    "            time.sleep(1)\n",
    "        except:\n",
    "            pass\n",
    "        print(\"当前结果是：\")\n",
    "        print(result)"
   ]
  },
  {
   "cell_type": "code",
   "execution_count": null,
   "metadata": {},
   "outputs": [],
   "source": [
    "for i in range(9):\n",
    "    print(i)\n",
    "    start_pa(i)"
   ]
  },
  {
   "cell_type": "code",
   "execution_count": null,
   "metadata": {},
   "outputs": [],
   "source": [
    "result"
   ]
  },
  {
   "cell_type": "code",
   "execution_count": null,
   "metadata": {},
   "outputs": [],
   "source": [
    "df = pd.DataFrame.from_dict(result,orient='index',columns=['姓名','自问自答次数','评论次数','签到次数'])\n",
    "df"
   ]
  },
  {
   "cell_type": "code",
   "execution_count": null,
   "metadata": {},
   "outputs": [],
   "source": [
    "df.to_csv('ljw_result.csv',encoding=\"utf-8-sig\")\n",
    "df = pd.read_csv('ljw_result.csv',encoding='utf-8-sig')\n",
    "df.set_index([\"Unnamed: 0\"], inplace=True)\n",
    "df.index.name=''\n",
    "df.head(30)"
   ]
  },
  {
   "cell_type": "code",
   "execution_count": null,
   "metadata": {},
   "outputs": [],
   "source": [
    "df = df.drop(df[df['自问自答次数']==0].index)\n",
    "name = df['姓名']\n",
    "df = df.drop(['姓名'], axis=1)"
   ]
  },
  {
   "cell_type": "code",
   "execution_count": null,
   "metadata": {},
   "outputs": [],
   "source": [
    "df.describe()"
   ]
  },
  {
   "cell_type": "code",
   "execution_count": null,
   "metadata": {},
   "outputs": [],
   "source": [
    "from sklearn.model_selection import train_test_split\n",
    "from sklearn.svm import SVC"
   ]
  },
  {
   "cell_type": "code",
   "execution_count": null,
   "metadata": {},
   "outputs": [],
   "source": [
    "train_X,test_X= train_test_split(df,test_size=0.7,random_state=5)\n",
    "train_X"
   ]
  },
  {
   "cell_type": "code",
   "execution_count": null,
   "metadata": {},
   "outputs": [],
   "source": [
    "train_label = [85,82,86,93,87,93,90,94,81,90,91,89,90,87,86,84,92,98,96,91,80,99,89,88,88,89,92,95,97,83]"
   ]
  },
  {
   "cell_type": "code",
   "execution_count": null,
   "metadata": {},
   "outputs": [],
   "source": [
    "test_X"
   ]
  },
  {
   "cell_type": "code",
   "execution_count": null,
   "metadata": {},
   "outputs": [],
   "source": [
    "C = 0.1\n",
    "clf = SVC(kernel = \"linear\", C = C)"
   ]
  },
  {
   "cell_type": "code",
   "execution_count": null,
   "metadata": {},
   "outputs": [],
   "source": [
    "clf.fit(train_X,train_label)\n",
    "test_pred = clf.predict(df)"
   ]
  },
  {
   "cell_type": "code",
   "execution_count": null,
   "metadata": {},
   "outputs": [],
   "source": [
    "test_pred"
   ]
  },
  {
   "cell_type": "code",
   "execution_count": null,
   "metadata": {},
   "outputs": [],
   "source": [
    "df['label']=test_pred\n",
    "df['姓名']=name"
   ]
  },
  {
   "cell_type": "code",
   "execution_count": null,
   "metadata": {},
   "outputs": [],
   "source": [
    "df"
   ]
  },
  {
   "cell_type": "code",
   "execution_count": null,
   "metadata": {},
   "outputs": [],
   "source": [
    "df.to_csv('final_result.csv',encoding=\"utf-8-sig\")"
   ]
  },
  {
   "cell_type": "code",
   "execution_count": null,
   "metadata": {},
   "outputs": [],
   "source": []
  }
 ],
 "metadata": {
  "kernelspec": {
   "display_name": "Python 3",
   "language": "python",
   "name": "python3"
  },
  "language_info": {
   "codemirror_mode": {
    "name": "ipython",
    "version": 3
   },
   "file_extension": ".py",
   "mimetype": "text/x-python",
   "name": "python",
   "nbconvert_exporter": "python",
   "pygments_lexer": "ipython3",
   "version": "3.7.4"
  }
 },
 "nbformat": 4,
 "nbformat_minor": 2
}
