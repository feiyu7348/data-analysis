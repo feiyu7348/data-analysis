{
 "cells": [
  {
   "cell_type": "code",
   "execution_count": 1,
   "metadata": {},
   "outputs": [
    {
     "name": "stdout",
     "output_type": "stream",
     "text": [
      "People in positions 2 through 4 flip your caps!\n",
      "People in positions 6 through 8 flip your caps!\n",
      "People in positions 11 through 11 flip your caps!\n"
     ]
    }
   ],
   "source": [
    "%run line.py"
   ]
  },
  {
   "cell_type": "code",
   "execution_count": null,
   "metadata": {},
   "outputs": [],
   "source": [
    "# %load line.py\n",
    "#Programming for the Puzzled -- Srini Devadas\n",
    "#You Will All Conform\n",
    "#Input is a vector of F's and B's, in terms of forwards and backwards caps\n",
    "#Output is a set of commands (printed out) to get either all F's or all B's\n",
    "#Fewest commands are the goal\n",
    "\n",
    "caps = ['F', 'F', 'B', 'B', 'B', 'F', 'B',\n",
    "\t\t'B', 'B', 'F', 'F', 'B', 'F' ]\n",
    "cap2 = ['F', 'F', 'B', 'B', 'B', 'F', 'B', 'B', 'B', 'F', 'F', 'F', 'F' ]\n",
    "\n",
    "def pleaseConform(caps):\n",
    "\t#Initialization\n",
    "\tstart = 0\n",
    "\tforward = 0\n",
    "\tbackward = 0\n",
    "\tintervals = []\n",
    "\n",
    "\t#Determine intervals where caps are on in the same direction\n",
    "\tfor i in range(1, len(caps)):\n",
    "\t\tif caps[start] != caps[i]:\n",
    "\t\t\t# each interval is a tuple with 3 elements (start, end, type)\n",
    "\t\t\tintervals.append((start, i - 1, caps[start]))\n",
    "\t\t\t\n",
    "\t\t\tif caps[start] == 'F':\n",
    "\t\t\t\tforward += 1\n",
    "\t\t\telse:\n",
    "\t\t\t\tbackward += 1\n",
    "\t\t\tstart = i\n",
    "\n",
    "\t#Need to add the last interval after for loop completes execution\n",
    "\tintervals.append((start, len(caps) - 1, caps[start]))\n",
    "\tif caps[start] == 'F':\n",
    "\t\tforward += 1\n",
    "\telse:\n",
    "\t\tbackward += 1\n",
    " \n",
    "##    print (intervals)\n",
    "##    print (forward, backward)\n",
    "\tif forward < backward:\n",
    "\t\tflip = 'F'\n",
    "\telse:\n",
    "\t\tflip = 'B'\n",
    "\tfor t in intervals:\n",
    "\t\tif t[2] == flip:\n",
    "\t\t\t#Exercise: if t[0] == t[1] change the printing!\n",
    "\t\t\tprint ('People in positions', t[0],\n",
    "\t\t\t\t   'through', t[1], 'flip your caps!')\n",
    "\t\t\t\t\n",
    "\t\t\t\n",
    "pleaseConform(caps)\n",
    "##pleaseConform(cap2)\n"
   ]
  },
  {
   "cell_type": "code",
   "execution_count": null,
   "metadata": {},
   "outputs": [],
   "source": []
  }
 ],
 "metadata": {
  "kernelspec": {
   "display_name": "Python 3",
   "language": "python",
   "name": "python3"
  },
  "language_info": {
   "codemirror_mode": {
    "name": "ipython",
    "version": 3
   },
   "file_extension": ".py",
   "mimetype": "text/x-python",
   "name": "python",
   "nbconvert_exporter": "python",
   "pygments_lexer": "ipython3",
   "version": "3.7.4"
  }
 },
 "nbformat": 4,
 "nbformat_minor": 2
}
